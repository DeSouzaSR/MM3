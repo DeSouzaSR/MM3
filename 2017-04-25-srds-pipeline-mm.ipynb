{
 "cells": [
  {
   "cell_type": "markdown",
   "metadata": {},
   "source": [
    "# Multiple Mercury\n",
    "\n",
    "Simulate a Solar System, in a *jumping jupiter* scenario, evaluating different configurations of semi-axes for a hypothetical planet Mercury in a compact orbit.\n",
    "\n",
    "Tasks:\n",
    "+ Create directory tree\n",
    "+ Create the Swift configuration files\n",
    "+ Run the simulation\n",
    "+ Extract figures\n"
   ]
  },
  {
   "cell_type": "markdown",
   "metadata": {},
   "source": [
    "Import modules"
   ]
  },
  {
   "cell_type": "code",
   "execution_count": 1,
   "metadata": {
    "collapsed": false
   },
   "outputs": [],
   "source": [
    "import os\n",
    "import shutil\n",
    "from glob import glob\n",
    "import numpy as np\n",
    "import math\n",
    "\n",
    "import sys\n",
    "sys.path.insert(0, 'src/')\n",
    "import oe2pv"
   ]
  },
  {
   "cell_type": "markdown",
   "metadata": {},
   "source": [
    "## Create directory tree"
   ]
  },
  {
   "cell_type": "code",
   "execution_count": 2,
   "metadata": {
    "collapsed": true
   },
   "outputs": [],
   "source": [
    "# Vectorize oe2pv\n",
    "oe2pv_vec = np.vectorize(oe2pv.orbel_el2xv)"
   ]
  },
  {
   "cell_type": "code",
   "execution_count": 3,
   "metadata": {
    "collapsed": false
   },
   "outputs": [],
   "source": [
    "simulation_name = \"mercury\"\n",
    "level1 = 4 # Number of mercury varying with distance \n",
    "level2 = 5 # Number of clones\n",
    "simulation_path = \"output/\" + simulation_name\n",
    "absolute_path = os.getcwd()\n",
    "planets_name = ['mercury','venus', 'earth', 'mars', 'jupiter','saturn', 'uranus', 'neptune']"
   ]
  },
  {
   "cell_type": "code",
   "execution_count": 4,
   "metadata": {
    "collapsed": false
   },
   "outputs": [],
   "source": [
    "os.chdir(\"output\")\n",
    "\n",
    "if os.path.isdir(simulation_name):\n",
    "    shutil.rmtree(simulation_name)\n",
    "    os.mkdir(simulation_name)\n",
    "    os.chdir(simulation_name)\n",
    "else:\n",
    "    os.mkdir(simulation_name)\n",
    "    os.chdir(simulation_name)\n",
    "\n",
    "for i in range(level1):\n",
    "    for j in range(level2):\n",
    "        os.mkdir(simulation_name + \"-\" + \"{:03d}\".format(i) + \"-\" + \"{:03d}\".format(j))\n",
    "        \n",
    "os.chdir(absolute_path)"
   ]
  },
  {
   "cell_type": "markdown",
   "metadata": {},
   "source": [
    "### Check directories tree"
   ]
  },
  {
   "cell_type": "code",
   "execution_count": 5,
   "metadata": {
    "collapsed": false
   },
   "outputs": [
    {
     "name": "stdout",
     "output_type": "stream",
     "text": [
      "mercury-000-000\r\n",
      "mercury-000-001\r\n",
      "mercury-000-002\r\n",
      "mercury-000-003\r\n",
      "mercury-000-004\r\n",
      "mercury-001-000\r\n",
      "mercury-001-001\r\n",
      "mercury-001-002\r\n",
      "mercury-001-003\r\n",
      "mercury-001-004\r\n"
     ]
    }
   ],
   "source": [
    "!ls output/mercury/ | head"
   ]
  },
  {
   "cell_type": "markdown",
   "metadata": {},
   "source": [
    "## Create the Swift configuration files"
   ]
  },
  {
   "cell_type": "code",
   "execution_count": 6,
   "metadata": {
    "collapsed": false
   },
   "outputs": [],
   "source": [
    "# Planets' data\n",
    "\n",
    "mercury = np.array( [0.38709893000000001, 0.20499999999999999, 7.0, 2439.6999999999998, 87.968999999999994, 3.3011000000000001e+23] )\n",
    "venus   = np.array( [0.72333199000000004, 0.0067732299999999999, 3.3947099999999999, 6051.8000000000002, 224.70099999999999, 4.8674999999999993e+24] )\n",
    "earth   = np.array( [1.00000011, 0.016710220000000001, 5.0000000000000002e-05, 6378.1369999999997, 365.25599999999997, 5.9722999999999996e+24] )\n",
    "mars    = np.array( [1.52366231, 0.093412330000000002, 1.8506100000000001, 3396.1999999999998, 686.98000000000002, 6.4171000000000003e+23] )\n",
    "jupiter = np.array( [5.2033630100000003, 0.048392659999999997, 1.3052999999999999, 71492.0, 4332.5889999999999, 1.8981900000000001e+27] )\n",
    "saturn  = np.array( [9.5370703199999998, 0.0541506, 2.4844599999999999, 60268.0, 10759.219999999999, 5.6834000000000003e+26] )\n",
    "uranus  = np.array( [19.191263930000002, 0.047167710000000002, 0.76985999999999999, 25559.0, 30685.400000000001, 8.6813e+25] )\n",
    "neptune = np.array( [30.068963480000001, 0.0085858700000000007, 1.7691699999999999, 24764.0, 60189.0, 1.0241299999999999e+26] )"
   ]
  },
  {
   "cell_type": "code",
   "execution_count": null,
   "metadata": {
    "collapsed": true
   },
   "outputs": [],
   "source": [
    "# Create new column, considering G = 1\n",
    "# Mass of the Sum, in kg\n",
    "mass_sun_kg = 1988500e24\n",
    "\n",
    "# Mass of the Sun, with G = 1\n",
    "mass_sun_grav = 2.959139768995959e-04\n",
    "\n",
    "# Conic section is ellipse\n",
    "ialpha = -1\n",
    "\n",
    "# Gravitational factor of the Sun\n",
    "gm =  2.959139768995959e-04"
   ]
  },
  {
   "cell_type": "code",
   "execution_count": 8,
   "metadata": {
    "collapsed": false
   },
   "outputs": [],
   "source": [
    "# Repeat data lines for each planet\n",
    "row_planets = level1 * level2\n",
    "columns_planets = len(mercury)\n",
    "\n",
    "for pl in planets_name:\n",
    "    exec(\"{0} = np.array([{0},]*row_planets)\".format(pl))"
   ]
  },
  {
   "cell_type": "code",
   "execution_count": 9,
   "metadata": {
    "collapsed": false
   },
   "outputs": [],
   "source": [
    "# Create mass_grav column from mass = planet[8]\n",
    "# Create gmpl column from mass_grav = planet[9]\n",
    "\n",
    "for pl in planets_name:\n",
    "    exec(\"{0} = np.c_[{0}, {0}[:, 5] * mass_sun_grav / mass_sun_kg]\".format(pl))\n",
    "    exec(\"{0} = np.c_[{0}, {0}[:, 6] + gm]\".format(pl))"
   ]
  },
  {
   "cell_type": "markdown",
   "metadata": {},
   "source": [
    "### Write config files"
   ]
  },
  {
   "cell_type": "code",
   "execution_count": 10,
   "metadata": {
    "collapsed": false
   },
   "outputs": [],
   "source": [
    "os.chdir(absolute_path)\n",
    "os.chdir(\"output/\" + simulation_name)\n",
    "\n",
    "simulations = glob(\"*\")\n",
    "for simulation in simulations:\n",
    "    os.chdir(simulation)\n",
    "    with open(\"pl.in\", \"w\") as f:\n",
    "        f.write(\"123\\n456\\n789\")\n",
    "    os.chdir(\"../\")\n",
    "\n",
    "os.chdir(absolute_path)"
   ]
  },
  {
   "cell_type": "code",
   "execution_count": 11,
   "metadata": {
    "collapsed": false
   },
   "outputs": [
    {
     "data": {
      "text/plain": [
       "array([[  1.00000011e+00,   1.67102200e-02,   5.00000000e-05,\n",
       "          6.37813700e+03,   3.65256000e+02,   5.97230000e+24,\n",
       "          8.88753857e-10,   2.95914866e-04],\n",
       "       [  1.00000011e+00,   1.67102200e-02,   5.00000000e-05,\n",
       "          6.37813700e+03,   3.65256000e+02,   5.97230000e+24,\n",
       "          8.88753857e-10,   2.95914866e-04],\n",
       "       [  1.00000011e+00,   1.67102200e-02,   5.00000000e-05,\n",
       "          6.37813700e+03,   3.65256000e+02,   5.97230000e+24,\n",
       "          8.88753857e-10,   2.95914866e-04],\n",
       "       [  1.00000011e+00,   1.67102200e-02,   5.00000000e-05,\n",
       "          6.37813700e+03,   3.65256000e+02,   5.97230000e+24,\n",
       "          8.88753857e-10,   2.95914866e-04],\n",
       "       [  1.00000011e+00,   1.67102200e-02,   5.00000000e-05,\n",
       "          6.37813700e+03,   3.65256000e+02,   5.97230000e+24,\n",
       "          8.88753857e-10,   2.95914866e-04],\n",
       "       [  1.00000011e+00,   1.67102200e-02,   5.00000000e-05,\n",
       "          6.37813700e+03,   3.65256000e+02,   5.97230000e+24,\n",
       "          8.88753857e-10,   2.95914866e-04],\n",
       "       [  1.00000011e+00,   1.67102200e-02,   5.00000000e-05,\n",
       "          6.37813700e+03,   3.65256000e+02,   5.97230000e+24,\n",
       "          8.88753857e-10,   2.95914866e-04],\n",
       "       [  1.00000011e+00,   1.67102200e-02,   5.00000000e-05,\n",
       "          6.37813700e+03,   3.65256000e+02,   5.97230000e+24,\n",
       "          8.88753857e-10,   2.95914866e-04],\n",
       "       [  1.00000011e+00,   1.67102200e-02,   5.00000000e-05,\n",
       "          6.37813700e+03,   3.65256000e+02,   5.97230000e+24,\n",
       "          8.88753857e-10,   2.95914866e-04],\n",
       "       [  1.00000011e+00,   1.67102200e-02,   5.00000000e-05,\n",
       "          6.37813700e+03,   3.65256000e+02,   5.97230000e+24,\n",
       "          8.88753857e-10,   2.95914866e-04],\n",
       "       [  1.00000011e+00,   1.67102200e-02,   5.00000000e-05,\n",
       "          6.37813700e+03,   3.65256000e+02,   5.97230000e+24,\n",
       "          8.88753857e-10,   2.95914866e-04],\n",
       "       [  1.00000011e+00,   1.67102200e-02,   5.00000000e-05,\n",
       "          6.37813700e+03,   3.65256000e+02,   5.97230000e+24,\n",
       "          8.88753857e-10,   2.95914866e-04],\n",
       "       [  1.00000011e+00,   1.67102200e-02,   5.00000000e-05,\n",
       "          6.37813700e+03,   3.65256000e+02,   5.97230000e+24,\n",
       "          8.88753857e-10,   2.95914866e-04],\n",
       "       [  1.00000011e+00,   1.67102200e-02,   5.00000000e-05,\n",
       "          6.37813700e+03,   3.65256000e+02,   5.97230000e+24,\n",
       "          8.88753857e-10,   2.95914866e-04],\n",
       "       [  1.00000011e+00,   1.67102200e-02,   5.00000000e-05,\n",
       "          6.37813700e+03,   3.65256000e+02,   5.97230000e+24,\n",
       "          8.88753857e-10,   2.95914866e-04],\n",
       "       [  1.00000011e+00,   1.67102200e-02,   5.00000000e-05,\n",
       "          6.37813700e+03,   3.65256000e+02,   5.97230000e+24,\n",
       "          8.88753857e-10,   2.95914866e-04],\n",
       "       [  1.00000011e+00,   1.67102200e-02,   5.00000000e-05,\n",
       "          6.37813700e+03,   3.65256000e+02,   5.97230000e+24,\n",
       "          8.88753857e-10,   2.95914866e-04],\n",
       "       [  1.00000011e+00,   1.67102200e-02,   5.00000000e-05,\n",
       "          6.37813700e+03,   3.65256000e+02,   5.97230000e+24,\n",
       "          8.88753857e-10,   2.95914866e-04],\n",
       "       [  1.00000011e+00,   1.67102200e-02,   5.00000000e-05,\n",
       "          6.37813700e+03,   3.65256000e+02,   5.97230000e+24,\n",
       "          8.88753857e-10,   2.95914866e-04],\n",
       "       [  1.00000011e+00,   1.67102200e-02,   5.00000000e-05,\n",
       "          6.37813700e+03,   3.65256000e+02,   5.97230000e+24,\n",
       "          8.88753857e-10,   2.95914866e-04]])"
      ]
     },
     "execution_count": 11,
     "metadata": {},
     "output_type": "execute_result"
    }
   ],
   "source": [
    "earth"
   ]
  },
  {
   "cell_type": "code",
   "execution_count": null,
   "metadata": {
    "collapsed": true
   },
   "outputs": [],
   "source": []
  },
  {
   "cell_type": "markdown",
   "metadata": {},
   "source": [
    "## Run the simulation"
   ]
  },
  {
   "cell_type": "markdown",
   "metadata": {},
   "source": [
    "## Extract figures"
   ]
  }
 ],
 "metadata": {
  "kernelspec": {
   "display_name": "Python 3",
   "language": "python",
   "name": "python3"
  },
  "language_info": {
   "codemirror_mode": {
    "name": "ipython",
    "version": 3
   },
   "file_extension": ".py",
   "mimetype": "text/x-python",
   "name": "python",
   "nbconvert_exporter": "python",
   "pygments_lexer": "ipython3",
   "version": "3.6.0"
  }
 },
 "nbformat": 4,
 "nbformat_minor": 2
}
