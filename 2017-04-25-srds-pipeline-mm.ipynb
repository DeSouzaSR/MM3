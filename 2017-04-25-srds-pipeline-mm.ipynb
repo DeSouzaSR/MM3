{
 "cells": [
  {
   "cell_type": "markdown",
   "metadata": {},
   "source": [
    "# Multiple Mercury\n",
    "\n",
    "Simulate a Solar System, in a *jumping jupiter* scenario, evaluating different configurations of semi-axes for a hypothetical planet Mercury in a compact orbit.\n",
    "\n",
    "Tasks:\n",
    "+ Create directory tree\n",
    "+ Create the Swift configuration files\n",
    "+ Run the simulation\n",
    "+ Extract figures\n"
   ]
  },
  {
   "cell_type": "markdown",
   "metadata": {},
   "source": [
    "## Create directory tree"
   ]
  },
  {
   "cell_type": "code",
   "execution_count": 118,
   "metadata": {
    "collapsed": false
   },
   "outputs": [],
   "source": [
    "import os\n",
    "import shutil\n",
    "from glob import glob\n",
    "import pandas as pd\n",
    "import numpy as np\n",
    "import math\n",
    "\n",
    "import sys\n",
    "sys.path.insert(0, 'src/')\n",
    "import oe2pv"
   ]
  },
  {
   "cell_type": "code",
   "execution_count": 119,
   "metadata": {
    "collapsed": false
   },
   "outputs": [],
   "source": [
    "simulation_name = \"mercury\"\n",
    "level1 = 4 # Number of mercury varying with distance \n",
    "level2 = 5 # Number of clones\n",
    "simulation_path = \"output/\" + simulation_name\n",
    "absolute_path = os.getcwd()"
   ]
  },
  {
   "cell_type": "code",
   "execution_count": 120,
   "metadata": {
    "collapsed": false
   },
   "outputs": [],
   "source": [
    "os.chdir(\"output\")\n",
    "\n",
    "if os.path.isdir(simulation_name):\n",
    "    shutil.rmtree(simulation_name)\n",
    "    os.mkdir(simulation_name)\n",
    "    os.chdir(simulation_name)\n",
    "else:\n",
    "    os.mkdir(simulation_name)\n",
    "    os.chdir(simulation_name)\n",
    "\n",
    "for i in range(level1):\n",
    "    for j in range(level2):\n",
    "        os.mkdir(simulation_name + \"-\" + \"{:03d}\".format(i) + \"-\" + \"{:03d}\".format(j))\n",
    "        \n",
    "os.chdir(absolute_path)"
   ]
  },
  {
   "cell_type": "markdown",
   "metadata": {},
   "source": [
    "### Check directories tree"
   ]
  },
  {
   "cell_type": "code",
   "execution_count": 4,
   "metadata": {
    "collapsed": false
   },
   "outputs": [
    {
     "name": "stdout",
     "output_type": "stream",
     "text": [
      "mercury-000-000  mercury-001-000  mercury-002-000  mercury-003-000\r\n",
      "mercury-000-001  mercury-001-001  mercury-002-001  mercury-003-001\r\n",
      "mercury-000-002  mercury-001-002  mercury-002-002  mercury-003-002\r\n",
      "mercury-000-003  mercury-001-003  mercury-002-003  mercury-003-003\r\n",
      "mercury-000-004  mercury-001-004  mercury-002-004  mercury-003-004\r\n"
     ]
    }
   ],
   "source": [
    "!ls output/mercury/"
   ]
  },
  {
   "cell_type": "markdown",
   "metadata": {},
   "source": [
    "## Create the Swift configuration files"
   ]
  },
  {
   "cell_type": "markdown",
   "metadata": {},
   "source": [
    "### Create planets dataframe"
   ]
  },
  {
   "cell_type": "code",
   "execution_count": 73,
   "metadata": {
    "collapsed": false
   },
   "outputs": [],
   "source": [
    "# Create planets data (J2000)\n",
    "# \n",
    "# Data from https://nssdc.gsfc.nasa.gov/planetary/\n",
    "# Data sequence: 'Venus', 'Earth', 'Mars', 'Jupiter', 'Saturn', 'Uranus',\n",
    "#  'Neptune'.\n",
    "\n",
    "# Planet's names\n",
    "planets_name = pd.Series(['mercury','venus', 'earth', 'mars', 'jupiter', \\\n",
    "                          'saturn', 'uranus', 'neptune'])\n",
    "\n",
    "# Semi-axis [au]\n",
    "a = pd.Series([0.38709893, 0.72333199, 1.00000011, 1.52366231, 5.20336301,\\\n",
    "               9.53707032, 19.19126393, 30.06896348])\n",
    "\n",
    "e = pd.Series([0.205, 0.00677323, 0.01671022, 0.09341233, 0.04839266, 0.0541506,\\\n",
    "               0.04716771, 0.00858587])\n",
    "\n",
    "i = pd.Series([7.0, 3.39471, 5e-05, 1.85061, 1.3053, 2.48446, 0.76986, 1.76917])\n",
    "\n",
    "capom = pd.Series([1.0, 76.68069, -11.26064, 49.57854, 100.55615, 113.71504, \\\n",
    "                   74.22988, 131.72169])\n",
    "\n",
    "omega = pd.Series([90.0, 131.53298, 102.94719, 336.04084, 14.75385, 92.43194, \\\n",
    "                   170.96424, 44.97135])\n",
    "\n",
    "\n",
    "# Mass [kg]\n",
    "mass = pd.Series([0.33011, 4.8675, 5.9723, 0.64171, 1898.19, 568.34, 86.813,\\\n",
    "                  102.413]) * 1e24\n",
    "\n",
    "# Equatorial radius [km]\n",
    "radio = pd.Series([2439.7, 6051.8, 6378.137, 3396.2, 71492, 60268, 25559, 24764])\n",
    "\n",
    "# Period [days]\n",
    "period = pd.Series([87.969, 224.701, 365.256, 686.980, 4332.589, 10759.22,\\\n",
    "                    30685.4, 60189])\n",
    "\n",
    "M = pd.Series([90.0, 181.97973, 100.46435, 355.45332, 34.40438, 49.94432, 313.23218, \\\n",
    "               304.88003])\n",
    "\n",
    "\n",
    "# Create a data frame from data series\n",
    "planets = pd.DataFrame({'planets_name': planets_name, 'a': a, 'e': e, 'i': i,\\\n",
    "                        'capom': capom, 'omega': omega,'mass': mass, \\\n",
    "                        'radio': radio, 'period': period, 'M': M})\n",
    "\n",
    "# Make planets_name index\n",
    "#planets = planets.set_index('planets_name')"
   ]
  },
  {
   "cell_type": "code",
   "execution_count": 6,
   "metadata": {
    "collapsed": false
   },
   "outputs": [],
   "source": [
    "#Create new column, considering G = 1\n",
    "# Mass of the Sum, in kg\n",
    "mass_sun_kg = 1988500e24\n",
    "\n",
    "# Mass of the Sun, with G = 1\n",
    "mass_sun_grav = 2.959139768995959e-04\n",
    "\n",
    "# Conic section is ellipse\n",
    "ialpha = -1\n",
    "\n",
    "# Gravitational factor of the Sun\n",
    "gm =  2.959139768995959e-04\n",
    "\n",
    "# Create mass_grav column\n",
    "planets['mass_grav'] = planets.mass * mass_sun_grav / mass_sun_kg\n",
    "\n",
    "# Create gmpl\n",
    "planets['gmpl'] = gm + planets.mass_grav"
   ]
  },
  {
   "cell_type": "code",
   "execution_count": 7,
   "metadata": {
    "collapsed": true
   },
   "outputs": [],
   "source": [
    "# Que coisa linda!!!\n",
    "for i in planets_name:\n",
    "    exec(i + ' = planets.loc[planets.planets_name == i].drop(\"planets_name\", 1)')"
   ]
  },
  {
   "cell_type": "code",
   "execution_count": 259,
   "metadata": {
    "collapsed": false
   },
   "outputs": [
    {
     "name": "stdout",
     "output_type": "stream",
     "text": [
      "mercury\n",
      "venus\n",
      "earth\n",
      "mars\n",
      "jupiter\n",
      "saturn\n",
      "uranus\n",
      "neptune\n"
     ]
    }
   ],
   "source": [
    "for i in planets_name:\n",
    "    print(i)"
   ]
  },
  {
   "cell_type": "markdown",
   "metadata": {},
   "source": [
    "### Check planets' dataframe"
   ]
  },
  {
   "cell_type": "code",
   "execution_count": 8,
   "metadata": {
    "collapsed": false
   },
   "outputs": [
    {
     "name": "stdout",
     "output_type": "stream",
     "text": [
      "\n",
      "Mercury\n",
      "       M         a  capom      e    i          mass  omega  period   radio  \\\n",
      "0  90.0  0.387099    1.0  0.205  7.0  3.301100e+23   90.0  87.969  2439.7   \n",
      "\n",
      "      mass_grav      gmpl  \n",
      "0  4.912455e-11  0.000296  \n",
      "\n",
      "Earth\n",
      "            M    a     capom        e        i          mass      omega  \\\n",
      "2  100.46435  1.0 -11.26064  0.01671  0.00005  5.972300e+24  102.94719   \n",
      "\n",
      "    period     radio     mass_grav      gmpl  \n",
      "2  365.256  6378.137  8.887539e-10  0.000296  \n",
      "\n",
      "Jupiter\n",
      "           M         a      capom         e       i          mass     omega  \\\n",
      "4  34.40438  5.203363  100.55615  0.048393  1.3053  1.898190e+27  14.75385   \n",
      "\n",
      "     period    radio     mass_grav      gmpl  \n",
      "4  4332.589  71492.0  2.824747e-07  0.000296  \n"
     ]
    }
   ],
   "source": [
    "print(\"\\nMercury\\n\", mercury)\n",
    "print(\"\\nEarth\\n\", earth)\n",
    "print(\"\\nJupiter\\n\", jupiter)"
   ]
  },
  {
   "cell_type": "markdown",
   "metadata": {},
   "source": [
    "### Test to verify Mercury's inclination in a especific date."
   ]
  },
  {
   "cell_type": "markdown",
   "metadata": {},
   "source": [
    "### Include angle for each planet"
   ]
  },
  {
   "cell_type": "code",
   "execution_count": null,
   "metadata": {
    "collapsed": true
   },
   "outputs": [],
   "source": []
  },
  {
   "cell_type": "code",
   "execution_count": 57,
   "metadata": {
    "collapsed": false
   },
   "outputs": [],
   "source": [
    "def angles_for_planets(pl):\n",
    "    # Creating variables to use the \"orbel\" function\n",
    "    gm = pl['gmpl']\n",
    "    a = pl['a']\n",
    "    e = pl['e']\n",
    "    inc = pl['i']\n",
    "    capom = pl['capom']\n",
    "    omega = pl['omega']\n",
    "    capm = pl['M']\n",
    "    P = pl['period']\n",
    "    rpl = pl['radio']\n",
    "\n",
    "    #Create position and velocity columns\n",
    "    #\n",
    "    # The module eo2pv.so, constructed from the Swift conversion subroutine,\n",
    "    # will be used.\n",
    "\n",
    "    x = np.zeros(len(pl))\n",
    "    y = np.zeros(len(pl))\n",
    "    z = np.zeros(len(pl))\n",
    "    vx = np.zeros(len(pl))\n",
    "    vy = np.zeros(len(pl))\n",
    "    vz = np.zeros(len(pl))\n",
    "\n",
    "    for j in range(len(pl)):\n",
    "        x[j], y[j], z[j], vx[j], vy[j], vz[j] = oe2pv.orbel_el2xv(gm[j], ialpha, a[j],e[j],\\\n",
    "                                                            math.radians(inc[j]),\\\n",
    "                                                            math.radians(capom[j]),\\\n",
    "                                                            math.radians(omega[j]),\\\n",
    "                                                            capm[j])\n",
    "\n",
    "\n",
    "#     # Create colums x, y, v, vx, vy and vz\n",
    "#     pl['x'] = x\n",
    "#     pl['y'] = y\n",
    "#     pl['z'] = z\n",
    "#     pl['vx'] = vx\n",
    "#     pl['vy'] = vy\n",
    "#     pl['vz'] = vz\n",
    "\n",
    "    return x, y, z, vx, vy, vz"
   ]
  },
  {
   "cell_type": "code",
   "execution_count": 58,
   "metadata": {
    "collapsed": false
   },
   "outputs": [],
   "source": [
    "for j in range(len(pl)):\n",
    "    x[j], y[j], z[j], vx[j], vy[j], vz[j] = oe2pv.orbel_el2xv([gmpl][j], ialpha, a[j],e[j],\\\n",
    "                                                        math.radians(inc[j]),\\\n",
    "                                                        math.radians(capom[j]),\\\n",
    "                                                        math.radians(omega[j]),\\\n",
    "                                                        capm[j])"
   ]
  },
  {
   "cell_type": "code",
   "execution_count": 61,
   "metadata": {
    "collapsed": false
   },
   "outputs": [],
   "source": [
    "func_vec = np.vectorize(oe2pv.orbel_el2xv)"
   ]
  },
  {
   "cell_type": "code",
   "execution_count": null,
   "metadata": {
    "collapsed": true
   },
   "outputs": [],
   "source": [
    "for i in planets_name:\n",
    "    x, y, z, vx, vy, vz = oe2pv.orbel_el2xv(i[\"gmpl\"][j], ialpha, a[j],e[j],\\\n",
    "                                                        math.radians(inc[j]),\\\n",
    "                                                        math.radians(capom[j]),\\\n",
    "                                                        math.radians(omega[j]),\\\n",
    "                                                        capm[j])"
   ]
  },
  {
   "cell_type": "code",
   "execution_count": 10,
   "metadata": {
    "collapsed": false
   },
   "outputs": [],
   "source": [
    "os.chdir(absolute_path)\n",
    "os.chdir(\"output/\" + simulation_name)\n",
    "\n",
    "simulations = glob(\"*\")\n",
    "for simulation in simulations:\n",
    "    os.chdir(simulation)\n",
    "    with open(\"pl.in\", \"w\") as f:\n",
    "        f.write(\"123\\n456\\n789\")\n",
    "    os.chdir(\"../\")\n",
    "\n",
    "os.chdir(absolute_path)"
   ]
  },
  {
   "cell_type": "code",
   "execution_count": null,
   "metadata": {
    "collapsed": true
   },
   "outputs": [],
   "source": []
  },
  {
   "cell_type": "code",
   "execution_count": null,
   "metadata": {
    "collapsed": true
   },
   "outputs": [],
   "source": []
  },
  {
   "cell_type": "markdown",
   "metadata": {},
   "source": [
    "## Run the simulation"
   ]
  },
  {
   "cell_type": "markdown",
   "metadata": {},
   "source": [
    "## Extract figures"
   ]
  },
  {
   "cell_type": "markdown",
   "metadata": {
    "collapsed": true
   },
   "source": [
    "## Teste com arrays"
   ]
  },
  {
   "cell_type": "code",
   "execution_count": 67,
   "metadata": {
    "collapsed": false
   },
   "outputs": [
    {
     "data": {
      "text/plain": [
       "array([[  3.55453320e+02,   1.52366231e+00,   4.95785400e+01,\n",
       "          9.34123300e-02,   1.85061000e+00,   6.41710000e+23,\n",
       "          3.36040840e+02,   6.86980000e+02,   3.39620000e+03,\n",
       "          9.54945729e-11,   2.95914072e-04]])"
      ]
     },
     "execution_count": 67,
     "metadata": {},
     "output_type": "execute_result"
    }
   ],
   "source": [
    "mars.values"
   ]
  },
  {
   "cell_type": "code",
   "execution_count": 142,
   "metadata": {
    "collapsed": false
   },
   "outputs": [],
   "source": [
    "mercury = planets[[\"a\", \"e\", \"i\", \"capom\", \"omega\", \"M\", \"radio\", \"period\", \"mass\"]].iloc[0].values\n",
    "venus = planets[[\"a\", \"e\", \"i\", \"capom\", \"omega\", \"M\", \"radio\", \"period\", \"mass\"]].iloc[1].values\n",
    "earth = planets[[\"a\", \"e\", \"i\", \"capom\", \"omega\", \"M\", \"radio\", \"period\", \"mass\"]].iloc[2].values\n",
    "mars = planets[[\"a\", \"e\", \"i\", \"capom\", \"omega\", \"M\", \"radio\", \"period\", \"mass\"]].iloc[3].values\n",
    "jupiter = planets[[\"a\", \"e\", \"i\", \"capom\", \"omega\", \"M\", \"radio\", \"period\", \"mass\"]].iloc[4].values\n",
    "saturn = planets[[\"a\", \"e\", \"i\", \"capom\", \"omega\", \"M\", \"radio\", \"period\", \"mass\"]].iloc[5].values\n",
    "uranus = planets[[\"a\", \"e\", \"i\", \"capom\", \"omega\", \"M\", \"radio\", \"period\", \"mass\"]].iloc[6].values\n",
    "neptune = planets[[\"a\", \"e\", \"i\", \"capom\", \"omega\", \"M\", \"radio\", \"period\", \"mass\"]].iloc[7].values"
   ]
  },
  {
   "cell_type": "code",
   "execution_count": 143,
   "metadata": {
    "collapsed": false
   },
   "outputs": [
    {
     "name": "stdout",
     "output_type": "stream",
     "text": [
      "mercury = np.array( [0.38709893000000001, 0.20499999999999999, 7.0, 1.0, 90.0, 90.0, 2439.6999999999998, 87.968999999999994, 3.3011000000000001e+23] )\n",
      "venus = np.array( [0.72333199000000004, 0.0067732299999999999, 3.3947099999999999, 76.680689999999998, 131.53298000000001, 181.97972999999999, 6051.8000000000002, 224.70099999999999, 4.8674999999999993e+24] )\n",
      "earth = np.array( [1.00000011, 0.016710220000000001, 5.0000000000000002e-05, -11.26064, 102.94719000000001, 100.46435, 6378.1369999999997, 365.25599999999997, 5.9722999999999996e+24] )\n",
      "mars = np.array( [1.52366231, 0.093412330000000002, 1.8506100000000001, 49.578539999999997, 336.04084, 355.45332000000002, 3396.1999999999998, 686.98000000000002, 6.4171000000000003e+23] )\n",
      "jupiter = np.array( [5.2033630100000003, 0.048392659999999997, 1.3052999999999999, 100.55615, 14.75385, 34.404380000000003, 71492.0, 4332.5889999999999, 1.8981900000000001e+27] )\n",
      "saturn = np.array( [9.5370703199999998, 0.0541506, 2.4844599999999999, 113.71504, 92.431939999999997, 49.944319999999998, 60268.0, 10759.219999999999, 5.6834000000000003e+26] )\n",
      "uranus = np.array( [19.191263930000002, 0.047167710000000002, 0.76985999999999999, 74.229879999999994, 170.96423999999999, 313.23218000000003, 25559.0, 30685.400000000001, 8.6813e+25] )\n",
      "neptune = np.array( [30.068963480000001, 0.0085858700000000007, 1.7691699999999999, 131.72169, 44.971350000000001, 304.88002999999998, 24764.0, 60189.0, 1.0241299999999999e+26] )\n"
     ]
    }
   ],
   "source": [
    "print(\"mercury = np.array(\", list(mercury), \")\")\n",
    "\n",
    "print(\"venus = np.array(\", list(venus), \")\")\n",
    "\n",
    "print(\"earth = np.array(\", list(earth), \")\")\n",
    "\n",
    "print(\"mars = np.array(\", list(mars), \")\")\n",
    "\n",
    "print(\"jupiter = np.array(\", list(jupiter), \")\")\n",
    "\n",
    "print(\"saturn = np.array(\", list(saturn), \")\")\n",
    "\n",
    "print(\"uranus = np.array(\", list(uranus), \")\")\n",
    "\n",
    "print(\"neptune = np.array(\", list(neptune), \")\")"
   ]
  },
  {
   "cell_type": "code",
   "execution_count": 167,
   "metadata": {
    "collapsed": false
   },
   "outputs": [],
   "source": [
    "mercury = np.array( [0.38709893000000001, 0.20499999999999999, 7.0, 1.0, 90.0, 90.0, 2439.6999999999998, 87.968999999999994, 3.3011000000000001e+23] )\n",
    "venus = np.array( [0.72333199000000004, 0.0067732299999999999, 3.3947099999999999, 76.680689999999998, 131.53298000000001, 181.97972999999999, 6051.8000000000002, 224.70099999999999, 4.8674999999999993e+24] )\n",
    "earth = np.array( [1.00000011, 0.016710220000000001, 5.0000000000000002e-05, -11.26064, 102.94719000000001, 100.46435, 6378.1369999999997, 365.25599999999997, 5.9722999999999996e+24] )\n",
    "mars = np.array( [1.52366231, 0.093412330000000002, 1.8506100000000001, 49.578539999999997, 336.04084, 355.45332000000002, 3396.1999999999998, 686.98000000000002, 6.4171000000000003e+23] )\n",
    "jupiter = np.array( [5.2033630100000003, 0.048392659999999997, 1.3052999999999999, 100.55615, 14.75385, 34.404380000000003, 71492.0, 4332.5889999999999, 1.8981900000000001e+27] )\n",
    "saturn = np.array( [9.5370703199999998, 0.0541506, 2.4844599999999999, 113.71504, 92.431939999999997, 49.944319999999998, 60268.0, 10759.219999999999, 5.6834000000000003e+26] )\n",
    "uranus = np.array( [19.191263930000002, 0.047167710000000002, 0.76985999999999999, 74.229879999999994, 170.96423999999999, 313.23218000000003, 25559.0, 30685.400000000001, 8.6813e+25] )\n",
    "neptune = np.array( [30.068963480000001, 0.0085858700000000007, 1.7691699999999999, 131.72169, 44.971350000000001, 304.88002999999998, 24764.0, 60189.0, 1.0241299999999999e+26] )"
   ]
  },
  {
   "cell_type": "code",
   "execution_count": 168,
   "metadata": {
    "collapsed": true
   },
   "outputs": [],
   "source": [
    "#Create new column, considering G = 1\n",
    "# Mass of the Sum, in kg\n",
    "mass_sun_kg = 1988500e24\n",
    "\n",
    "# Mass of the Sun, with G = 1\n",
    "mass_sun_grav = 2.959139768995959e-04\n",
    "\n",
    "# Conic section is ellipse\n",
    "ialpha = -1\n",
    "\n",
    "# Gravitational factor of the Sun\n",
    "gm =  2.959139768995959e-04"
   ]
  },
  {
   "cell_type": "code",
   "execution_count": 171,
   "metadata": {
    "collapsed": true
   },
   "outputs": [],
   "source": [
    "# Create mass_grav column from mass = planet[8]\n",
    "# Create gmpl column from mass_grav = planet[9]\n",
    "\n",
    "for i in [8, 9]:\n",
    "    mercury = np.append(mercury, mercury[i] * mass_sun_grav / mass_sun_kg)\n",
    "    venus   = np.append(venus, venus[i] * mass_sun_grav / mass_sun_kg)\n",
    "    earth   = np.append(earth, earth[i] * mass_sun_grav / mass_sun_kg)\n",
    "    mars    = np.append(mars, mars[i] * mass_sun_grav / mass_sun_kg)\n",
    "    jupiter = np.append(jupiter, jupiter[i] * mass_sun_grav / mass_sun_kg)\n",
    "    saturn  = np.append(saturn, saturn[i] * mass_sun_grav / mass_sun_kg)\n",
    "    uranus  = np.append(uranus, uranus[i] * mass_sun_grav / mass_sun_kg)\n",
    "    neptune = np.append(neptune, neptune[i] * mass_sun_grav / mass_sun_kg)"
   ]
  },
  {
   "cell_type": "code",
   "execution_count": 184,
   "metadata": {
    "collapsed": false
   },
   "outputs": [
    {
     "ename": "SyntaxError",
     "evalue": "invalid syntax (<ipython-input-184-8852b9d46947>, line 6)",
     "output_type": "error",
     "traceback": [
      "\u001b[0;36m  File \u001b[0;32m\"<ipython-input-184-8852b9d46947>\"\u001b[0;36m, line \u001b[0;32m6\u001b[0m\n\u001b[0;31m    for i in range(len())\u001b[0m\n\u001b[0m                         ^\u001b[0m\n\u001b[0;31mSyntaxError\u001b[0m\u001b[0;31m:\u001b[0m invalid syntax\n"
     ]
    }
   ],
   "source": [
    "row_planets = level1 * level2\n",
    "columns_planets = len(mercury)\n",
    "\n",
    "mercury2 = np.empty((columns_planets, row_planets), float)\n",
    "\n",
    "for i in range(len(row_planets)):\n",
    "    "
   ]
  },
  {
   "cell_type": "code",
   "execution_count": 185,
   "metadata": {
    "collapsed": false
   },
   "outputs": [
    {
     "data": {
      "text/plain": [
       "array([2, 2, 2])"
      ]
     },
     "execution_count": 185,
     "metadata": {},
     "output_type": "execute_result"
    }
   ],
   "source": [
    "np.repeat(2,3)"
   ]
  },
  {
   "cell_type": "code",
   "execution_count": 254,
   "metadata": {
    "collapsed": true
   },
   "outputs": [],
   "source": [
    "mercury = np.array( [0.38709893000000001, 0.20499999999999999, 7.0, 2439.6999999999998, 87.968999999999994, 3.3011000000000001e+23] )\n",
    "venus = np.array( [0.72333199000000004, 0.0067732299999999999, 3.3947099999999999, 6051.8000000000002, 224.70099999999999, 4.8674999999999993e+24] )\n",
    "earth = np.array( [1.00000011, 0.016710220000000001, 5.0000000000000002e-05, 6378.1369999999997, 365.25599999999997, 5.9722999999999996e+24] )\n",
    "mars = np.array( [1.52366231, 0.093412330000000002, 1.8506100000000001, 3396.1999999999998, 686.98000000000002, 6.4171000000000003e+23] )\n",
    "jupiter = np.array( [5.2033630100000003, 0.048392659999999997, 1.3052999999999999, 71492.0, 4332.5889999999999, 1.8981900000000001e+27] )\n",
    "saturn = np.array( [9.5370703199999998, 0.0541506, 2.4844599999999999, 60268.0, 10759.219999999999, 5.6834000000000003e+26] )\n",
    "uranus = np.array( [19.191263930000002, 0.047167710000000002, 0.76985999999999999, 25559.0, 30685.400000000001, 8.6813e+25] )\n",
    "neptune = np.array( [30.068963480000001, 0.0085858700000000007, 1.7691699999999999, 24764.0, 60189.0, 1.0241299999999999e+26] )"
   ]
  },
  {
   "cell_type": "code",
   "execution_count": 255,
   "metadata": {
    "collapsed": true
   },
   "outputs": [],
   "source": [
    "row_planets = level1 * level2\n",
    "columns_planets = len(mercury)\n",
    "\n",
    "mercury = np.array([mercury,]*row_planets)\n",
    "venus = np.array([venus,]*row_planets)\n",
    "earth = np.array([earth,]*row_planets)\n",
    "mars = np.array([mars,]*row_planets)\n",
    "jupiter = np.array([jupiter,]*row_planets)\n",
    "saturn = np.array([saturn,]*row_planets)\n",
    "uranus = np.array([uranus,]*row_planets)\n",
    "neptune = np.array([neptune,]*row_planets)"
   ]
  },
  {
   "cell_type": "code",
   "execution_count": 238,
   "metadata": {
    "collapsed": false
   },
   "outputs": [
    {
     "ename": "IndexError",
     "evalue": "too many indices for array",
     "output_type": "error",
     "traceback": [
      "\u001b[0;31m---------------------------------------------------------------------------\u001b[0m",
      "\u001b[0;31mIndexError\u001b[0m                                Traceback (most recent call last)",
      "\u001b[0;32m<ipython-input-238-ed9419535784>\u001b[0m in \u001b[0;36m<module>\u001b[0;34m()\u001b[0m\n\u001b[1;32m      3\u001b[0m \u001b[0;34m\u001b[0m\u001b[0m\n\u001b[1;32m      4\u001b[0m \u001b[0;32mfor\u001b[0m \u001b[0mi\u001b[0m \u001b[0;32min\u001b[0m \u001b[0;34m[\u001b[0m\u001b[0;36m5\u001b[0m\u001b[0;34m,\u001b[0m \u001b[0;36m6\u001b[0m\u001b[0;34m]\u001b[0m\u001b[0;34m:\u001b[0m\u001b[0;34m\u001b[0m\u001b[0m\n\u001b[0;32m----> 5\u001b[0;31m     \u001b[0mmercury\u001b[0m \u001b[0;34m=\u001b[0m \u001b[0mnp\u001b[0m\u001b[0;34m.\u001b[0m\u001b[0mappend\u001b[0m\u001b[0;34m(\u001b[0m\u001b[0mmercury\u001b[0m\u001b[0;34m,\u001b[0m \u001b[0mmercury\u001b[0m\u001b[0;34m[\u001b[0m\u001b[0;34m:\u001b[0m\u001b[0;34m,\u001b[0m\u001b[0mi\u001b[0m\u001b[0;34m]\u001b[0m \u001b[0;34m*\u001b[0m \u001b[0mmass_sun_grav\u001b[0m \u001b[0;34m/\u001b[0m \u001b[0mmass_sun_kg\u001b[0m\u001b[0;34m)\u001b[0m\u001b[0;34m\u001b[0m\u001b[0m\n\u001b[0m\u001b[1;32m      6\u001b[0m     \u001b[0mvenus\u001b[0m   \u001b[0;34m=\u001b[0m \u001b[0mnp\u001b[0m\u001b[0;34m.\u001b[0m\u001b[0mappend\u001b[0m\u001b[0;34m(\u001b[0m\u001b[0mvenus\u001b[0m\u001b[0;34m,\u001b[0m \u001b[0mvenus\u001b[0m\u001b[0;34m[\u001b[0m\u001b[0;34m:\u001b[0m\u001b[0;34m,\u001b[0m\u001b[0mi\u001b[0m\u001b[0;34m]\u001b[0m \u001b[0;34m*\u001b[0m \u001b[0mmass_sun_grav\u001b[0m \u001b[0;34m/\u001b[0m \u001b[0mmass_sun_kg\u001b[0m\u001b[0;34m)\u001b[0m\u001b[0;34m\u001b[0m\u001b[0m\n\u001b[1;32m      7\u001b[0m     \u001b[0mearth\u001b[0m   \u001b[0;34m=\u001b[0m \u001b[0mnp\u001b[0m\u001b[0;34m.\u001b[0m\u001b[0mappend\u001b[0m\u001b[0;34m(\u001b[0m\u001b[0mearth\u001b[0m\u001b[0;34m,\u001b[0m \u001b[0mearth\u001b[0m\u001b[0;34m[\u001b[0m\u001b[0;34m:\u001b[0m\u001b[0;34m,\u001b[0m\u001b[0mi\u001b[0m\u001b[0;34m]\u001b[0m \u001b[0;34m*\u001b[0m \u001b[0mmass_sun_grav\u001b[0m \u001b[0;34m/\u001b[0m \u001b[0mmass_sun_kg\u001b[0m\u001b[0;34m)\u001b[0m\u001b[0;34m\u001b[0m\u001b[0m\n",
      "\u001b[0;31mIndexError\u001b[0m: too many indices for array"
     ]
    }
   ],
   "source": [
    "# Create mass_grav column from mass = planet[8]\n",
    "# Create gmpl column from mass_grav = planet[9]\n",
    "\n",
    "for i in [5, 6]:\n",
    "    mercury = np.append(mercury, mercury[:,i] * mass_sun_grav / mass_sun_kg)\n",
    "    venus   = np.append(venus, venus[:,i] * mass_sun_grav / mass_sun_kg)\n",
    "    earth   = np.append(earth, earth[:,i] * mass_sun_grav / mass_sun_kg)\n",
    "    mars    = np.append(mars, mars[:,i] * mass_sun_grav / mass_sun_kg)\n",
    "    jupiter = np.append(jupiter, jupiter[:,i] * mass_sun_grav / mass_sun_kg)\n",
    "    saturn  = np.append(saturn, saturn[:,i] * mass_sun_grav / mass_sun_kg)\n",
    "    uranus  = np.append(uranus, uranus[:,i] * mass_sun_grav / mass_sun_kg)\n",
    "    neptune = np.append(neptune, neptune[:,i] * mass_sun_grav / mass_sun_kg)"
   ]
  },
  {
   "cell_type": "code",
   "execution_count": 241,
   "metadata": {
    "collapsed": false
   },
   "outputs": [
    {
     "ename": "ValueError",
     "evalue": "could not broadcast input array from shape (20) into shape (20,5)",
     "output_type": "error",
     "traceback": [
      "\u001b[0;31m---------------------------------------------------------------------------\u001b[0m",
      "\u001b[0;31mValueError\u001b[0m                                Traceback (most recent call last)",
      "\u001b[0;32m<ipython-input-241-ff9ace5856f2>\u001b[0m in \u001b[0;36m<module>\u001b[0;34m()\u001b[0m\n\u001b[1;32m      3\u001b[0m \u001b[0;34m\u001b[0m\u001b[0m\n\u001b[1;32m      4\u001b[0m \u001b[0;32mfor\u001b[0m \u001b[0mi\u001b[0m \u001b[0;32min\u001b[0m \u001b[0;34m[\u001b[0m\u001b[0;36m5\u001b[0m\u001b[0;34m,\u001b[0m \u001b[0;36m6\u001b[0m\u001b[0;34m]\u001b[0m\u001b[0;34m:\u001b[0m\u001b[0;34m\u001b[0m\u001b[0m\n\u001b[0;32m----> 5\u001b[0;31m     \u001b[0mmercury\u001b[0m\u001b[0;34m[\u001b[0m\u001b[0;34m:\u001b[0m\u001b[0;34m,\u001b[0m\u001b[0;34m:\u001b[0m\u001b[0;34m-\u001b[0m\u001b[0;36m1\u001b[0m\u001b[0;34m]\u001b[0m \u001b[0;34m=\u001b[0m \u001b[0mmercury\u001b[0m\u001b[0;34m[\u001b[0m\u001b[0;34m:\u001b[0m\u001b[0;34m,\u001b[0m\u001b[0mi\u001b[0m\u001b[0;34m]\u001b[0m \u001b[0;34m*\u001b[0m \u001b[0mmass_sun_grav\u001b[0m \u001b[0;34m/\u001b[0m \u001b[0mmass_sun_kg\u001b[0m\u001b[0;34m\u001b[0m\u001b[0m\n\u001b[0m\u001b[1;32m      6\u001b[0m     \u001b[0mvenus\u001b[0m\u001b[0;34m[\u001b[0m\u001b[0;34m:\u001b[0m\u001b[0;34m,\u001b[0m\u001b[0;34m:\u001b[0m\u001b[0;34m-\u001b[0m\u001b[0;36m1\u001b[0m\u001b[0;34m]\u001b[0m   \u001b[0;34m=\u001b[0m \u001b[0mvenus\u001b[0m\u001b[0;34m[\u001b[0m\u001b[0;34m:\u001b[0m\u001b[0;34m,\u001b[0m\u001b[0mi\u001b[0m\u001b[0;34m]\u001b[0m \u001b[0;34m*\u001b[0m \u001b[0mmass_sun_grav\u001b[0m \u001b[0;34m/\u001b[0m \u001b[0mmass_sun_kg\u001b[0m\u001b[0;34m\u001b[0m\u001b[0m\n\u001b[1;32m      7\u001b[0m     \u001b[0mearth\u001b[0m\u001b[0;34m[\u001b[0m\u001b[0;34m:\u001b[0m\u001b[0;34m,\u001b[0m\u001b[0;34m:\u001b[0m\u001b[0;34m-\u001b[0m\u001b[0;36m1\u001b[0m\u001b[0;34m]\u001b[0m   \u001b[0;34m=\u001b[0m \u001b[0mearth\u001b[0m\u001b[0;34m[\u001b[0m\u001b[0;34m:\u001b[0m\u001b[0;34m,\u001b[0m\u001b[0mi\u001b[0m\u001b[0;34m]\u001b[0m \u001b[0;34m*\u001b[0m \u001b[0mmass_sun_grav\u001b[0m \u001b[0;34m/\u001b[0m \u001b[0mmass_sun_kg\u001b[0m\u001b[0;34m\u001b[0m\u001b[0m\n",
      "\u001b[0;31mValueError\u001b[0m: could not broadcast input array from shape (20) into shape (20,5)"
     ]
    }
   ],
   "source": [
    "# Create mass_grav column from mass = planet[8]\n",
    "# Create gmpl column from mass_grav = planet[9]\n",
    "\n",
    "for i in [5, 6]:\n",
    "    mercury[:,:-1] = mercury[:,i] * mass_sun_grav / mass_sun_kg\n",
    "    venus[:,:-1]   = venus[:,i] * mass_sun_grav / mass_sun_kg\n",
    "    earth[:,:-1]   = earth[:,i] * mass_sun_grav / mass_sun_kg\n",
    "    mars[:,:-1]    = mars[:,i] * mass_sun_grav / mass_sun_kg\n",
    "    jupiter[:,:-1] = jupiter[:,i] * mass_sun_grav / mass_sun_kg\n",
    "    saturn[:,:-1]  = saturn[:,i] * mass_sun_grav / mass_sun_kg\n",
    "    uranus[:,:-1]  = uranus[:,i] * mass_sun_grav / mass_sun_kg\n",
    "    neptune[:,:-1] = neptune[:,i] * mass_sun_grav / mass_sun_kg"
   ]
  },
  {
   "cell_type": "code",
   "execution_count": 256,
   "metadata": {
    "collapsed": false
   },
   "outputs": [],
   "source": [
    "mercury = np.c_[mercury[:,5] * mass_sun_grav / mass_sun_kg]"
   ]
  },
  {
   "cell_type": "code",
   "execution_count": 257,
   "metadata": {
    "collapsed": false
   },
   "outputs": [
    {
     "data": {
      "text/plain": [
       "array([[  4.91245476e-11],\n",
       "       [  4.91245476e-11],\n",
       "       [  4.91245476e-11],\n",
       "       [  4.91245476e-11],\n",
       "       [  4.91245476e-11],\n",
       "       [  4.91245476e-11],\n",
       "       [  4.91245476e-11],\n",
       "       [  4.91245476e-11],\n",
       "       [  4.91245476e-11],\n",
       "       [  4.91245476e-11],\n",
       "       [  4.91245476e-11],\n",
       "       [  4.91245476e-11],\n",
       "       [  4.91245476e-11],\n",
       "       [  4.91245476e-11],\n",
       "       [  4.91245476e-11],\n",
       "       [  4.91245476e-11],\n",
       "       [  4.91245476e-11],\n",
       "       [  4.91245476e-11],\n",
       "       [  4.91245476e-11],\n",
       "       [  4.91245476e-11]])"
      ]
     },
     "execution_count": 257,
     "metadata": {},
     "output_type": "execute_result"
    }
   ],
   "source": [
    "mercury"
   ]
  },
  {
   "cell_type": "code",
   "execution_count": 251,
   "metadata": {
    "collapsed": true
   },
   "outputs": [],
   "source": [
    "N = 3\n",
    "a = np.random.rand(N,N)\n",
    "b = np.zeros((N,N+1))\n",
    "b[:,:-1] = a"
   ]
  },
  {
   "cell_type": "code",
   "execution_count": 252,
   "metadata": {
    "collapsed": false
   },
   "outputs": [
    {
     "data": {
      "text/plain": [
       "array([[ 0.11130408,  0.25218822,  0.60524686],\n",
       "       [ 0.39446479,  0.38673055,  0.54294206],\n",
       "       [ 0.78194495,  0.19033443,  0.75884607]])"
      ]
     },
     "execution_count": 252,
     "metadata": {},
     "output_type": "execute_result"
    }
   ],
   "source": [
    "a"
   ]
  },
  {
   "cell_type": "code",
   "execution_count": 253,
   "metadata": {
    "collapsed": false
   },
   "outputs": [
    {
     "data": {
      "text/plain": [
       "array([[ 0.,  0.,  0.,  0.],\n",
       "       [ 0.,  0.,  0.,  0.],\n",
       "       [ 0.,  0.,  0.,  0.]])"
      ]
     },
     "execution_count": 253,
     "metadata": {},
     "output_type": "execute_result"
    }
   ],
   "source": [
    "b"
   ]
  },
  {
   "cell_type": "code",
   "execution_count": 203,
   "metadata": {
    "collapsed": false
   },
   "outputs": [
    {
     "name": "stdout",
     "output_type": "stream",
     "text": [
      "mercury\n",
      "venus\n",
      "earth\n",
      "mars\n",
      "jupiter\n",
      "saturn\n",
      "uranus\n",
      "neptune\n"
     ]
    }
   ],
   "source": [
    "for i in planets_name:\n",
    "    print(i)"
   ]
  },
  {
   "cell_type": "code",
   "execution_count": null,
   "metadata": {
    "collapsed": true
   },
   "outputs": [],
   "source": []
  }
 ],
 "metadata": {
  "kernelspec": {
   "display_name": "Python 3",
   "language": "python",
   "name": "python3"
  },
  "language_info": {
   "codemirror_mode": {
    "name": "ipython",
    "version": 3
   },
   "file_extension": ".py",
   "mimetype": "text/x-python",
   "name": "python",
   "nbconvert_exporter": "python",
   "pygments_lexer": "ipython3",
   "version": "3.6.0"
  }
 },
 "nbformat": 4,
 "nbformat_minor": 2
}
