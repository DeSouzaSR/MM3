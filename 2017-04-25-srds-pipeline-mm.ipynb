{
 "cells": [
  {
   "cell_type": "markdown",
   "metadata": {},
   "source": [
    "# Multiple Mercury\n",
    "\n",
    "Simulate a Solar System, in a *jumping jupiter* scenario, evaluating different configurations of semi-axes for a hypothetical planet Mercury in a compact orbit.\n",
    "\n",
    "Tasks:\n",
    "+ Create directory tree\n",
    "+ Create the Swift configuration files\n",
    "+ Run the simulation\n",
    "+ Extract figures\n"
   ]
  },
  {
   "cell_type": "markdown",
   "metadata": {},
   "source": [
    "## Create directory tree"
   ]
  },
  {
   "cell_type": "code",
   "execution_count": 1,
   "metadata": {
    "collapsed": false
   },
   "outputs": [],
   "source": [
    "import os\n",
    "import shutil\n",
    "from glob import glob\n",
    "import pandas as pd\n",
    "import numpy as np\n",
    "import math\n",
    "\n",
    "import sys\n",
    "sys.path.insert(0, 'src/')\n",
    "import oe2pv"
   ]
  },
  {
   "cell_type": "code",
   "execution_count": 2,
   "metadata": {
    "collapsed": false
   },
   "outputs": [],
   "source": [
    "simulation_name = \"mercury\"\n",
    "level1 = 10 # Number of mercury varying with distance \n",
    "level2 = 100 # Number of clones\n",
    "simulation_path = \"output/\" + simulation_name\n",
    "absolute_path = os.getcwd()"
   ]
  },
  {
   "cell_type": "code",
   "execution_count": 3,
   "metadata": {
    "collapsed": false
   },
   "outputs": [],
   "source": [
    "os.chdir(\"output\")\n",
    "\n",
    "if os.path.isdir(simulation_name):\n",
    "    shutil.rmtree(simulation_name)\n",
    "    os.mkdir(simulation_name)\n",
    "    os.chdir(simulation_name)\n",
    "else:\n",
    "    os.mkdir(simulation_name)\n",
    "    os.chdir(simulation_name)\n",
    "\n",
    "for i in range(level1):\n",
    "    for j in range(level2):\n",
    "        os.mkdir(simulation_name + \"-\" + \"{:03d}\".format(i) + \"-\" + \"{:03d}\".format(j))\n",
    "        \n",
    "os.chdir(absolute_path)"
   ]
  },
  {
   "cell_type": "markdown",
   "metadata": {},
   "source": [
    "### Check directories tree"
   ]
  },
  {
   "cell_type": "code",
   "execution_count": 4,
   "metadata": {
    "collapsed": false
   },
   "outputs": [
    {
     "name": "stdout",
     "output_type": "stream",
     "text": [
      "mercury-000-000  mercury-002-050  mercury-005-000  mercury-007-050\r\n",
      "mercury-000-001  mercury-002-051  mercury-005-001  mercury-007-051\r\n",
      "mercury-000-002  mercury-002-052  mercury-005-002  mercury-007-052\r\n",
      "mercury-000-003  mercury-002-053  mercury-005-003  mercury-007-053\r\n",
      "mercury-000-004  mercury-002-054  mercury-005-004  mercury-007-054\r\n",
      "mercury-000-005  mercury-002-055  mercury-005-005  mercury-007-055\r\n",
      "mercury-000-006  mercury-002-056  mercury-005-006  mercury-007-056\r\n",
      "mercury-000-007  mercury-002-057  mercury-005-007  mercury-007-057\r\n",
      "mercury-000-008  mercury-002-058  mercury-005-008  mercury-007-058\r\n",
      "mercury-000-009  mercury-002-059  mercury-005-009  mercury-007-059\r\n",
      "mercury-000-010  mercury-002-060  mercury-005-010  mercury-007-060\r\n",
      "mercury-000-011  mercury-002-061  mercury-005-011  mercury-007-061\r\n",
      "mercury-000-012  mercury-002-062  mercury-005-012  mercury-007-062\r\n",
      "mercury-000-013  mercury-002-063  mercury-005-013  mercury-007-063\r\n",
      "mercury-000-014  mercury-002-064  mercury-005-014  mercury-007-064\r\n",
      "mercury-000-015  mercury-002-065  mercury-005-015  mercury-007-065\r\n",
      "mercury-000-016  mercury-002-066  mercury-005-016  mercury-007-066\r\n",
      "mercury-000-017  mercury-002-067  mercury-005-017  mercury-007-067\r\n",
      "mercury-000-018  mercury-002-068  mercury-005-018  mercury-007-068\r\n",
      "mercury-000-019  mercury-002-069  mercury-005-019  mercury-007-069\r\n",
      "mercury-000-020  mercury-002-070  mercury-005-020  mercury-007-070\r\n",
      "mercury-000-021  mercury-002-071  mercury-005-021  mercury-007-071\r\n",
      "mercury-000-022  mercury-002-072  mercury-005-022  mercury-007-072\r\n",
      "mercury-000-023  mercury-002-073  mercury-005-023  mercury-007-073\r\n",
      "mercury-000-024  mercury-002-074  mercury-005-024  mercury-007-074\r\n",
      "mercury-000-025  mercury-002-075  mercury-005-025  mercury-007-075\r\n",
      "mercury-000-026  mercury-002-076  mercury-005-026  mercury-007-076\r\n",
      "mercury-000-027  mercury-002-077  mercury-005-027  mercury-007-077\r\n",
      "mercury-000-028  mercury-002-078  mercury-005-028  mercury-007-078\r\n",
      "mercury-000-029  mercury-002-079  mercury-005-029  mercury-007-079\r\n",
      "mercury-000-030  mercury-002-080  mercury-005-030  mercury-007-080\r\n",
      "mercury-000-031  mercury-002-081  mercury-005-031  mercury-007-081\r\n",
      "mercury-000-032  mercury-002-082  mercury-005-032  mercury-007-082\r\n",
      "mercury-000-033  mercury-002-083  mercury-005-033  mercury-007-083\r\n",
      "mercury-000-034  mercury-002-084  mercury-005-034  mercury-007-084\r\n",
      "mercury-000-035  mercury-002-085  mercury-005-035  mercury-007-085\r\n",
      "mercury-000-036  mercury-002-086  mercury-005-036  mercury-007-086\r\n",
      "mercury-000-037  mercury-002-087  mercury-005-037  mercury-007-087\r\n",
      "mercury-000-038  mercury-002-088  mercury-005-038  mercury-007-088\r\n",
      "mercury-000-039  mercury-002-089  mercury-005-039  mercury-007-089\r\n",
      "mercury-000-040  mercury-002-090  mercury-005-040  mercury-007-090\r\n",
      "mercury-000-041  mercury-002-091  mercury-005-041  mercury-007-091\r\n",
      "mercury-000-042  mercury-002-092  mercury-005-042  mercury-007-092\r\n",
      "mercury-000-043  mercury-002-093  mercury-005-043  mercury-007-093\r\n",
      "mercury-000-044  mercury-002-094  mercury-005-044  mercury-007-094\r\n",
      "mercury-000-045  mercury-002-095  mercury-005-045  mercury-007-095\r\n",
      "mercury-000-046  mercury-002-096  mercury-005-046  mercury-007-096\r\n",
      "mercury-000-047  mercury-002-097  mercury-005-047  mercury-007-097\r\n",
      "mercury-000-048  mercury-002-098  mercury-005-048  mercury-007-098\r\n",
      "mercury-000-049  mercury-002-099  mercury-005-049  mercury-007-099\r\n",
      "mercury-000-050  mercury-003-000  mercury-005-050  mercury-008-000\r\n",
      "mercury-000-051  mercury-003-001  mercury-005-051  mercury-008-001\r\n",
      "mercury-000-052  mercury-003-002  mercury-005-052  mercury-008-002\r\n",
      "mercury-000-053  mercury-003-003  mercury-005-053  mercury-008-003\r\n",
      "mercury-000-054  mercury-003-004  mercury-005-054  mercury-008-004\r\n",
      "mercury-000-055  mercury-003-005  mercury-005-055  mercury-008-005\r\n",
      "mercury-000-056  mercury-003-006  mercury-005-056  mercury-008-006\r\n",
      "mercury-000-057  mercury-003-007  mercury-005-057  mercury-008-007\r\n",
      "mercury-000-058  mercury-003-008  mercury-005-058  mercury-008-008\r\n",
      "mercury-000-059  mercury-003-009  mercury-005-059  mercury-008-009\r\n",
      "mercury-000-060  mercury-003-010  mercury-005-060  mercury-008-010\r\n",
      "mercury-000-061  mercury-003-011  mercury-005-061  mercury-008-011\r\n",
      "mercury-000-062  mercury-003-012  mercury-005-062  mercury-008-012\r\n",
      "mercury-000-063  mercury-003-013  mercury-005-063  mercury-008-013\r\n",
      "mercury-000-064  mercury-003-014  mercury-005-064  mercury-008-014\r\n",
      "mercury-000-065  mercury-003-015  mercury-005-065  mercury-008-015\r\n",
      "mercury-000-066  mercury-003-016  mercury-005-066  mercury-008-016\r\n",
      "mercury-000-067  mercury-003-017  mercury-005-067  mercury-008-017\r\n",
      "mercury-000-068  mercury-003-018  mercury-005-068  mercury-008-018\r\n",
      "mercury-000-069  mercury-003-019  mercury-005-069  mercury-008-019\r\n",
      "mercury-000-070  mercury-003-020  mercury-005-070  mercury-008-020\r\n",
      "mercury-000-071  mercury-003-021  mercury-005-071  mercury-008-021\r\n",
      "mercury-000-072  mercury-003-022  mercury-005-072  mercury-008-022\r\n",
      "mercury-000-073  mercury-003-023  mercury-005-073  mercury-008-023\r\n",
      "mercury-000-074  mercury-003-024  mercury-005-074  mercury-008-024\r\n",
      "mercury-000-075  mercury-003-025  mercury-005-075  mercury-008-025\r\n",
      "mercury-000-076  mercury-003-026  mercury-005-076  mercury-008-026\r\n",
      "mercury-000-077  mercury-003-027  mercury-005-077  mercury-008-027\r\n",
      "mercury-000-078  mercury-003-028  mercury-005-078  mercury-008-028\r\n",
      "mercury-000-079  mercury-003-029  mercury-005-079  mercury-008-029\r\n",
      "mercury-000-080  mercury-003-030  mercury-005-080  mercury-008-030\r\n",
      "mercury-000-081  mercury-003-031  mercury-005-081  mercury-008-031\r\n",
      "mercury-000-082  mercury-003-032  mercury-005-082  mercury-008-032\r\n",
      "mercury-000-083  mercury-003-033  mercury-005-083  mercury-008-033\r\n",
      "mercury-000-084  mercury-003-034  mercury-005-084  mercury-008-034\r\n",
      "mercury-000-085  mercury-003-035  mercury-005-085  mercury-008-035\r\n",
      "mercury-000-086  mercury-003-036  mercury-005-086  mercury-008-036\r\n",
      "mercury-000-087  mercury-003-037  mercury-005-087  mercury-008-037\r\n",
      "mercury-000-088  mercury-003-038  mercury-005-088  mercury-008-038\r\n",
      "mercury-000-089  mercury-003-039  mercury-005-089  mercury-008-039\r\n",
      "mercury-000-090  mercury-003-040  mercury-005-090  mercury-008-040\r\n",
      "mercury-000-091  mercury-003-041  mercury-005-091  mercury-008-041\r\n",
      "mercury-000-092  mercury-003-042  mercury-005-092  mercury-008-042\r\n",
      "mercury-000-093  mercury-003-043  mercury-005-093  mercury-008-043\r\n",
      "mercury-000-094  mercury-003-044  mercury-005-094  mercury-008-044\r\n",
      "mercury-000-095  mercury-003-045  mercury-005-095  mercury-008-045\r\n",
      "mercury-000-096  mercury-003-046  mercury-005-096  mercury-008-046\r\n",
      "mercury-000-097  mercury-003-047  mercury-005-097  mercury-008-047\r\n",
      "mercury-000-098  mercury-003-048  mercury-005-098  mercury-008-048\r\n",
      "mercury-000-099  mercury-003-049  mercury-005-099  mercury-008-049\r\n",
      "mercury-001-000  mercury-003-050  mercury-006-000  mercury-008-050\r\n",
      "mercury-001-001  mercury-003-051  mercury-006-001  mercury-008-051\r\n",
      "mercury-001-002  mercury-003-052  mercury-006-002  mercury-008-052\r\n",
      "mercury-001-003  mercury-003-053  mercury-006-003  mercury-008-053\r\n",
      "mercury-001-004  mercury-003-054  mercury-006-004  mercury-008-054\r\n",
      "mercury-001-005  mercury-003-055  mercury-006-005  mercury-008-055\r\n",
      "mercury-001-006  mercury-003-056  mercury-006-006  mercury-008-056\r\n",
      "mercury-001-007  mercury-003-057  mercury-006-007  mercury-008-057\r\n",
      "mercury-001-008  mercury-003-058  mercury-006-008  mercury-008-058\r\n",
      "mercury-001-009  mercury-003-059  mercury-006-009  mercury-008-059\r\n",
      "mercury-001-010  mercury-003-060  mercury-006-010  mercury-008-060\r\n",
      "mercury-001-011  mercury-003-061  mercury-006-011  mercury-008-061\r\n",
      "mercury-001-012  mercury-003-062  mercury-006-012  mercury-008-062\r\n",
      "mercury-001-013  mercury-003-063  mercury-006-013  mercury-008-063\r\n",
      "mercury-001-014  mercury-003-064  mercury-006-014  mercury-008-064\r\n",
      "mercury-001-015  mercury-003-065  mercury-006-015  mercury-008-065\r\n",
      "mercury-001-016  mercury-003-066  mercury-006-016  mercury-008-066\r\n",
      "mercury-001-017  mercury-003-067  mercury-006-017  mercury-008-067\r\n",
      "mercury-001-018  mercury-003-068  mercury-006-018  mercury-008-068\r\n",
      "mercury-001-019  mercury-003-069  mercury-006-019  mercury-008-069\r\n",
      "mercury-001-020  mercury-003-070  mercury-006-020  mercury-008-070\r\n",
      "mercury-001-021  mercury-003-071  mercury-006-021  mercury-008-071\r\n",
      "mercury-001-022  mercury-003-072  mercury-006-022  mercury-008-072\r\n",
      "mercury-001-023  mercury-003-073  mercury-006-023  mercury-008-073\r\n",
      "mercury-001-024  mercury-003-074  mercury-006-024  mercury-008-074\r\n",
      "mercury-001-025  mercury-003-075  mercury-006-025  mercury-008-075\r\n",
      "mercury-001-026  mercury-003-076  mercury-006-026  mercury-008-076\r\n",
      "mercury-001-027  mercury-003-077  mercury-006-027  mercury-008-077\r\n",
      "mercury-001-028  mercury-003-078  mercury-006-028  mercury-008-078\r\n",
      "mercury-001-029  mercury-003-079  mercury-006-029  mercury-008-079\r\n",
      "mercury-001-030  mercury-003-080  mercury-006-030  mercury-008-080\r\n",
      "mercury-001-031  mercury-003-081  mercury-006-031  mercury-008-081\r\n",
      "mercury-001-032  mercury-003-082  mercury-006-032  mercury-008-082\r\n",
      "mercury-001-033  mercury-003-083  mercury-006-033  mercury-008-083\r\n",
      "mercury-001-034  mercury-003-084  mercury-006-034  mercury-008-084\r\n",
      "mercury-001-035  mercury-003-085  mercury-006-035  mercury-008-085\r\n",
      "mercury-001-036  mercury-003-086  mercury-006-036  mercury-008-086\r\n",
      "mercury-001-037  mercury-003-087  mercury-006-037  mercury-008-087\r\n",
      "mercury-001-038  mercury-003-088  mercury-006-038  mercury-008-088\r\n",
      "mercury-001-039  mercury-003-089  mercury-006-039  mercury-008-089\r\n",
      "mercury-001-040  mercury-003-090  mercury-006-040  mercury-008-090\r\n",
      "mercury-001-041  mercury-003-091  mercury-006-041  mercury-008-091\r\n",
      "mercury-001-042  mercury-003-092  mercury-006-042  mercury-008-092\r\n",
      "mercury-001-043  mercury-003-093  mercury-006-043  mercury-008-093\r\n",
      "mercury-001-044  mercury-003-094  mercury-006-044  mercury-008-094\r\n",
      "mercury-001-045  mercury-003-095  mercury-006-045  mercury-008-095\r\n",
      "mercury-001-046  mercury-003-096  mercury-006-046  mercury-008-096\r\n",
      "mercury-001-047  mercury-003-097  mercury-006-047  mercury-008-097\r\n",
      "mercury-001-048  mercury-003-098  mercury-006-048  mercury-008-098\r\n",
      "mercury-001-049  mercury-003-099  mercury-006-049  mercury-008-099\r\n",
      "mercury-001-050  mercury-004-000  mercury-006-050  mercury-009-000\r\n",
      "mercury-001-051  mercury-004-001  mercury-006-051  mercury-009-001\r\n",
      "mercury-001-052  mercury-004-002  mercury-006-052  mercury-009-002\r\n",
      "mercury-001-053  mercury-004-003  mercury-006-053  mercury-009-003\r\n",
      "mercury-001-054  mercury-004-004  mercury-006-054  mercury-009-004\r\n",
      "mercury-001-055  mercury-004-005  mercury-006-055  mercury-009-005\r\n",
      "mercury-001-056  mercury-004-006  mercury-006-056  mercury-009-006\r\n",
      "mercury-001-057  mercury-004-007  mercury-006-057  mercury-009-007\r\n",
      "mercury-001-058  mercury-004-008  mercury-006-058  mercury-009-008\r\n",
      "mercury-001-059  mercury-004-009  mercury-006-059  mercury-009-009\r\n",
      "mercury-001-060  mercury-004-010  mercury-006-060  mercury-009-010\r\n",
      "mercury-001-061  mercury-004-011  mercury-006-061  mercury-009-011\r\n",
      "mercury-001-062  mercury-004-012  mercury-006-062  mercury-009-012\r\n",
      "mercury-001-063  mercury-004-013  mercury-006-063  mercury-009-013\r\n",
      "mercury-001-064  mercury-004-014  mercury-006-064  mercury-009-014\r\n",
      "mercury-001-065  mercury-004-015  mercury-006-065  mercury-009-015\r\n",
      "mercury-001-066  mercury-004-016  mercury-006-066  mercury-009-016\r\n",
      "mercury-001-067  mercury-004-017  mercury-006-067  mercury-009-017\r\n",
      "mercury-001-068  mercury-004-018  mercury-006-068  mercury-009-018\r\n",
      "mercury-001-069  mercury-004-019  mercury-006-069  mercury-009-019\r\n",
      "mercury-001-070  mercury-004-020  mercury-006-070  mercury-009-020\r\n",
      "mercury-001-071  mercury-004-021  mercury-006-071  mercury-009-021\r\n",
      "mercury-001-072  mercury-004-022  mercury-006-072  mercury-009-022\r\n",
      "mercury-001-073  mercury-004-023  mercury-006-073  mercury-009-023\r\n",
      "mercury-001-074  mercury-004-024  mercury-006-074  mercury-009-024\r\n",
      "mercury-001-075  mercury-004-025  mercury-006-075  mercury-009-025\r\n",
      "mercury-001-076  mercury-004-026  mercury-006-076  mercury-009-026\r\n",
      "mercury-001-077  mercury-004-027  mercury-006-077  mercury-009-027\r\n",
      "mercury-001-078  mercury-004-028  mercury-006-078  mercury-009-028\r\n",
      "mercury-001-079  mercury-004-029  mercury-006-079  mercury-009-029\r\n",
      "mercury-001-080  mercury-004-030  mercury-006-080  mercury-009-030\r\n",
      "mercury-001-081  mercury-004-031  mercury-006-081  mercury-009-031\r\n",
      "mercury-001-082  mercury-004-032  mercury-006-082  mercury-009-032\r\n",
      "mercury-001-083  mercury-004-033  mercury-006-083  mercury-009-033\r\n",
      "mercury-001-084  mercury-004-034  mercury-006-084  mercury-009-034\r\n",
      "mercury-001-085  mercury-004-035  mercury-006-085  mercury-009-035\r\n",
      "mercury-001-086  mercury-004-036  mercury-006-086  mercury-009-036\r\n",
      "mercury-001-087  mercury-004-037  mercury-006-087  mercury-009-037\r\n",
      "mercury-001-088  mercury-004-038  mercury-006-088  mercury-009-038\r\n",
      "mercury-001-089  mercury-004-039  mercury-006-089  mercury-009-039\r\n",
      "mercury-001-090  mercury-004-040  mercury-006-090  mercury-009-040\r\n",
      "mercury-001-091  mercury-004-041  mercury-006-091  mercury-009-041\r\n",
      "mercury-001-092  mercury-004-042  mercury-006-092  mercury-009-042\r\n",
      "mercury-001-093  mercury-004-043  mercury-006-093  mercury-009-043\r\n",
      "mercury-001-094  mercury-004-044  mercury-006-094  mercury-009-044\r\n",
      "mercury-001-095  mercury-004-045  mercury-006-095  mercury-009-045\r\n",
      "mercury-001-096  mercury-004-046  mercury-006-096  mercury-009-046\r\n",
      "mercury-001-097  mercury-004-047  mercury-006-097  mercury-009-047\r\n",
      "mercury-001-098  mercury-004-048  mercury-006-098  mercury-009-048\r\n",
      "mercury-001-099  mercury-004-049  mercury-006-099  mercury-009-049\r\n",
      "mercury-002-000  mercury-004-050  mercury-007-000  mercury-009-050\r\n",
      "mercury-002-001  mercury-004-051  mercury-007-001  mercury-009-051\r\n",
      "mercury-002-002  mercury-004-052  mercury-007-002  mercury-009-052\r\n",
      "mercury-002-003  mercury-004-053  mercury-007-003  mercury-009-053\r\n",
      "mercury-002-004  mercury-004-054  mercury-007-004  mercury-009-054\r\n",
      "mercury-002-005  mercury-004-055  mercury-007-005  mercury-009-055\r\n",
      "mercury-002-006  mercury-004-056  mercury-007-006  mercury-009-056\r\n",
      "mercury-002-007  mercury-004-057  mercury-007-007  mercury-009-057\r\n",
      "mercury-002-008  mercury-004-058  mercury-007-008  mercury-009-058\r\n",
      "mercury-002-009  mercury-004-059  mercury-007-009  mercury-009-059\r\n",
      "mercury-002-010  mercury-004-060  mercury-007-010  mercury-009-060\r\n",
      "mercury-002-011  mercury-004-061  mercury-007-011  mercury-009-061\r\n",
      "mercury-002-012  mercury-004-062  mercury-007-012  mercury-009-062\r\n",
      "mercury-002-013  mercury-004-063  mercury-007-013  mercury-009-063\r\n",
      "mercury-002-014  mercury-004-064  mercury-007-014  mercury-009-064\r\n",
      "mercury-002-015  mercury-004-065  mercury-007-015  mercury-009-065\r\n",
      "mercury-002-016  mercury-004-066  mercury-007-016  mercury-009-066\r\n",
      "mercury-002-017  mercury-004-067  mercury-007-017  mercury-009-067\r\n",
      "mercury-002-018  mercury-004-068  mercury-007-018  mercury-009-068\r\n",
      "mercury-002-019  mercury-004-069  mercury-007-019  mercury-009-069\r\n",
      "mercury-002-020  mercury-004-070  mercury-007-020  mercury-009-070\r\n",
      "mercury-002-021  mercury-004-071  mercury-007-021  mercury-009-071\r\n",
      "mercury-002-022  mercury-004-072  mercury-007-022  mercury-009-072\r\n",
      "mercury-002-023  mercury-004-073  mercury-007-023  mercury-009-073\r\n",
      "mercury-002-024  mercury-004-074  mercury-007-024  mercury-009-074\r\n",
      "mercury-002-025  mercury-004-075  mercury-007-025  mercury-009-075\r\n",
      "mercury-002-026  mercury-004-076  mercury-007-026  mercury-009-076\r\n",
      "mercury-002-027  mercury-004-077  mercury-007-027  mercury-009-077\r\n",
      "mercury-002-028  mercury-004-078  mercury-007-028  mercury-009-078\r\n",
      "mercury-002-029  mercury-004-079  mercury-007-029  mercury-009-079\r\n",
      "mercury-002-030  mercury-004-080  mercury-007-030  mercury-009-080\r\n",
      "mercury-002-031  mercury-004-081  mercury-007-031  mercury-009-081\r\n",
      "mercury-002-032  mercury-004-082  mercury-007-032  mercury-009-082\r\n",
      "mercury-002-033  mercury-004-083  mercury-007-033  mercury-009-083\r\n",
      "mercury-002-034  mercury-004-084  mercury-007-034  mercury-009-084\r\n",
      "mercury-002-035  mercury-004-085  mercury-007-035  mercury-009-085\r\n",
      "mercury-002-036  mercury-004-086  mercury-007-036  mercury-009-086\r\n",
      "mercury-002-037  mercury-004-087  mercury-007-037  mercury-009-087\r\n",
      "mercury-002-038  mercury-004-088  mercury-007-038  mercury-009-088\r\n",
      "mercury-002-039  mercury-004-089  mercury-007-039  mercury-009-089\r\n",
      "mercury-002-040  mercury-004-090  mercury-007-040  mercury-009-090\r\n",
      "mercury-002-041  mercury-004-091  mercury-007-041  mercury-009-091\r\n",
      "mercury-002-042  mercury-004-092  mercury-007-042  mercury-009-092\r\n",
      "mercury-002-043  mercury-004-093  mercury-007-043  mercury-009-093\r\n",
      "mercury-002-044  mercury-004-094  mercury-007-044  mercury-009-094\r\n",
      "mercury-002-045  mercury-004-095  mercury-007-045  mercury-009-095\r\n",
      "mercury-002-046  mercury-004-096  mercury-007-046  mercury-009-096\r\n",
      "mercury-002-047  mercury-004-097  mercury-007-047  mercury-009-097\r\n",
      "mercury-002-048  mercury-004-098  mercury-007-048  mercury-009-098\r\n",
      "mercury-002-049  mercury-004-099  mercury-007-049  mercury-009-099\r\n"
     ]
    }
   ],
   "source": [
    "!ls output/mercury/"
   ]
  },
  {
   "cell_type": "markdown",
   "metadata": {},
   "source": [
    "## Create the Swift configuration files"
   ]
  },
  {
   "cell_type": "markdown",
   "metadata": {},
   "source": [
    "### Create planets dataframe"
   ]
  },
  {
   "cell_type": "code",
   "execution_count": 5,
   "metadata": {
    "collapsed": false
   },
   "outputs": [],
   "source": [
    "# Create planets data (J2000)\n",
    "# \n",
    "# Data from https://nssdc.gsfc.nasa.gov/planetary/\n",
    "# Data sequence: 'Venus', 'Earth', 'Mars', 'Jupiter', 'Saturn', 'Uranus',\n",
    "#  'Neptune'.\n",
    "\n",
    "# Planet's names\n",
    "planets_name = pd.Series(['mercury','venus', 'earth', 'mars', 'jupiter', \\\n",
    "                          'saturn', 'uranus', 'neptune'])\n",
    "\n",
    "# Semi-axis [au]\n",
    "a = pd.Series([0.38709893, 0.72333199, 1.00000011, 1.52366231, 5.20336301,\\\n",
    "               9.53707032, 19.19126393, 30.06896348])\n",
    "\n",
    "e = pd.Series([0.205, 0.00677323, 0.01671022, 0.09341233, 0.04839266, 0.0541506,\\\n",
    "               0.04716771, 0.00858587])\n",
    "\n",
    "i = pd.Series([7.0, 3.39471, 5e-05, 1.85061, 1.3053, 2.48446, 0.76986, 1.76917])\n",
    "\n",
    "capom = pd.Series([1.0, 76.68069, -11.26064, 49.57854, 100.55615, 113.71504, \\\n",
    "                   74.22988, 131.72169])\n",
    "\n",
    "omega = pd.Series([90.0, 131.53298, 102.94719, 336.04084, 14.75385, 92.43194, \\\n",
    "                   170.96424, 44.97135])\n",
    "\n",
    "\n",
    "# Mass [kg]\n",
    "mass = pd.Series([0.33011, 4.8675, 5.9723, 0.64171, 1898.19, 568.34, 86.813,\\\n",
    "                  102.413]) * 1e24\n",
    "\n",
    "# Equatorial radius [km]\n",
    "radio = pd.Series([2439.7, 6051.8, 6378.137, 3396.2, 71492, 60268, 25559, 24764])\n",
    "\n",
    "# Period [days]\n",
    "period = pd.Series([87.969, 224.701, 365.256, 686.980, 4332.589, 10759.22,\\\n",
    "                    30685.4, 60189])\n",
    "\n",
    "M = pd.Series([90.0, 181.97973, 100.46435, 355.45332, 34.40438, 49.94432, 313.23218, \\\n",
    "               304.88003])\n",
    "\n",
    "\n",
    "# Create a data frame from data series\n",
    "planets = pd.DataFrame({'planets_name': planets_name, 'a': a, 'e': e, 'i': i,\\\n",
    "                        'capom': capom, 'omega': omega,'mass': mass, \\\n",
    "                        'radio': radio, 'period': period, 'M': M})\n",
    "\n",
    "# Make planets_name index\n",
    "#planets = planets.set_index('planets_name')"
   ]
  },
  {
   "cell_type": "code",
   "execution_count": 6,
   "metadata": {
    "collapsed": false
   },
   "outputs": [],
   "source": [
    "#Create new column, considering G = 1\n",
    "# Mass of the Sum, in kg\n",
    "mass_sun_kg = 1988500e24\n",
    "\n",
    "# Mass of the Sun, with G = 1\n",
    "mass_sun_grav = 2.959139768995959e-04\n",
    "\n",
    "# Conic section is ellipse\n",
    "ialpha = -1\n",
    "\n",
    "# Gravitational factor of the Sun\n",
    "gm =  2.959139768995959e-04\n",
    "\n",
    "# Create mass_grav column\n",
    "planets['mass_grav'] = planets.mass * mass_sun_grav / mass_sun_kg\n",
    "\n",
    "# Create gmpl\n",
    "planets['gmpl'] = gm + planets.mass_grav"
   ]
  },
  {
   "cell_type": "code",
   "execution_count": 7,
   "metadata": {
    "collapsed": true
   },
   "outputs": [],
   "source": [
    "# Que coisa linda!!!\n",
    "for i in planets_name:\n",
    "    exec(i + ' = planets.loc[planets.planets_name == i].drop(\"planets_name\", 1)')"
   ]
  },
  {
   "cell_type": "markdown",
   "metadata": {},
   "source": [
    "### Check planets' dataframe"
   ]
  },
  {
   "cell_type": "code",
   "execution_count": 8,
   "metadata": {
    "collapsed": false
   },
   "outputs": [
    {
     "name": "stdout",
     "output_type": "stream",
     "text": [
      "\n",
      "Mercury\n",
      "       M         a  capom      e    i          mass  omega  period   radio  \\\n",
      "0  90.0  0.387099    1.0  0.205  7.0  3.301100e+23   90.0  87.969  2439.7   \n",
      "\n",
      "      mass_grav      gmpl  \n",
      "0  4.912455e-11  0.000296  \n",
      "\n",
      "Earth\n",
      "            M    a     capom        e        i          mass      omega  \\\n",
      "2  100.46435  1.0 -11.26064  0.01671  0.00005  5.972300e+24  102.94719   \n",
      "\n",
      "    period     radio     mass_grav      gmpl  \n",
      "2  365.256  6378.137  8.887539e-10  0.000296  \n",
      "\n",
      "Jupiter\n",
      "           M         a      capom         e       i          mass     omega  \\\n",
      "4  34.40438  5.203363  100.55615  0.048393  1.3053  1.898190e+27  14.75385   \n",
      "\n",
      "     period    radio     mass_grav      gmpl  \n",
      "4  4332.589  71492.0  2.824747e-07  0.000296  \n"
     ]
    }
   ],
   "source": [
    "print(\"\\nMercury\\n\", mercury)\n",
    "print(\"\\nEarth\\n\", earth)\n",
    "print(\"\\nJupiter\\n\", jupiter)"
   ]
  },
  {
   "cell_type": "code",
   "execution_count": 9,
   "metadata": {
    "collapsed": false
   },
   "outputs": [
    {
     "name": "stdout",
     "output_type": "stream",
     "text": [
      "           M          a      capom         e        i          mass  \\\n",
      "0   90.00000   0.387099    1.00000  0.205000  7.00000  3.301100e+23   \n",
      "1  181.97973   0.723332   76.68069  0.006773  3.39471  4.867500e+24   \n",
      "2  100.46435   1.000000  -11.26064  0.016710  0.00005  5.972300e+24   \n",
      "3  355.45332   1.523662   49.57854  0.093412  1.85061  6.417100e+23   \n",
      "4   34.40438   5.203363  100.55615  0.048393  1.30530  1.898190e+27   \n",
      "5   49.94432   9.537070  113.71504  0.054151  2.48446  5.683400e+26   \n",
      "6  313.23218  19.191264   74.22988  0.047168  0.76986  8.681300e+25   \n",
      "7  304.88003  30.068963  131.72169  0.008586  1.76917  1.024130e+26   \n",
      "\n",
      "       omega     period planets_name      radio     mass_grav      gmpl  \\\n",
      "0   90.00000     87.969      mercury   2439.700  4.912455e-11  0.000296   \n",
      "1  131.53298    224.701        venus   6051.800  7.243456e-10  0.000296   \n",
      "2  102.94719    365.256        earth   6378.137  8.887539e-10  0.000296   \n",
      "3  336.04084    686.980         mars   3396.200  9.549457e-11  0.000296   \n",
      "4   14.75385   4332.589      jupiter  71492.000  2.824747e-07  0.000296   \n",
      "5   92.43194  10759.220       saturn  60268.000  8.457619e-08  0.000296   \n",
      "6  170.96424  30685.400       uranus  25559.000  1.291887e-08  0.000296   \n",
      "7   44.97135  60189.000      neptune  24764.000  1.524035e-08  0.000296   \n",
      "\n",
      "           x         y             z        vx        vy            vz  \n",
      "0  -0.300720 -0.310487 -3.747284e-02  0.014572 -0.019529 -2.428776e-03  \n",
      "1  -0.693951 -0.182644  3.756081e-02  0.005182 -0.019681 -5.680931e-04  \n",
      "2   0.038783  0.982563  8.475503e-07 -0.017479  0.000670 -2.404959e-09  \n",
      "3  -1.120359 -1.216589  2.070521e-03  0.009726 -0.008299 -4.130948e-04  \n",
      "4   1.624341 -5.204891 -1.465851e-02  0.006878  0.002094 -1.628159e-04  \n",
      "5  -8.998631 -0.888266  3.729740e-01  0.000684 -0.005823  7.442799e-05  \n",
      "6 -18.510975 -2.470160  2.303558e-01  0.000688 -0.003974 -2.341174e-05  \n",
      "7  30.205400  2.577684 -7.493463e-01 -0.000270  0.003098 -5.747276e-05  \n"
     ]
    }
   ],
   "source": [
    "# Creating variables to use the \"orbel\" function\n",
    "gm = planets['gmpl']\n",
    "a = planets['a']\n",
    "e = planets['e']\n",
    "inc = planets['i']\n",
    "capom = planets['capom']\n",
    "omega = planets['omega']\n",
    "capm = planets['M']\n",
    "P = planets['period']\n",
    "rpl = planets['radio']\n",
    "\n",
    "#Create position and velocity columns\n",
    "#\n",
    "# The module eo2pv.so, constructed from the Swift conversion subroutine,\n",
    "# will be used.\n",
    "\n",
    "len_planets = len(planets)\n",
    "\n",
    "x = np.zeros(len_planets)\n",
    "y = np.zeros(len_planets)\n",
    "z = np.zeros(len_planets)\n",
    "vx = np.zeros(len_planets)\n",
    "vy = np.zeros(len_planets)\n",
    "vz = np.zeros(len_planets)\n",
    "\n",
    "for j in range(len(planets)):\n",
    "    x[j], y[j], z[j], vx[j], vy[j], vz[j] = oe2pv.orbel_el2xv(gm[j], ialpha, a[j],e[j],\\\n",
    "                                                        math.radians(inc[j]),\\\n",
    "                                                        math.radians(capom[j]),\\\n",
    "                                                        math.radians(omega[j]),\\\n",
    "                                                        capm[j])\n",
    "\n",
    "\n",
    "# Create colums x, y, v, vx, vy and vz\n",
    "planets['x'] = x\n",
    "planets['y'] = y\n",
    "planets['z'] = z\n",
    "planets['vx'] = vx\n",
    "planets['vy'] = vy\n",
    "planets['vz'] = vz\n",
    "\n",
    "print(planets)"
   ]
  },
  {
   "cell_type": "code",
   "execution_count": 17,
   "metadata": {
    "collapsed": false
   },
   "outputs": [
    {
     "data": {
      "text/plain": [
       "5.4524851578288267"
      ]
     },
     "execution_count": 17,
     "metadata": {},
     "output_type": "execute_result"
    }
   ],
   "source": [
    "x = planets.iloc[4][12]\n",
    "y = planets.iloc[4][13]\n",
    "z = planets.iloc[4][14]\n",
    "np.sqrt(x**2 + y**2 + z**2)"
   ]
  },
  {
   "cell_type": "code",
   "execution_count": 16,
   "metadata": {
    "collapsed": false
   },
   "outputs": [
    {
     "data": {
      "text/plain": [
       "0.98332821956600136"
      ]
     },
     "execution_count": 16,
     "metadata": {},
     "output_type": "execute_result"
    }
   ],
   "source": []
  },
  {
   "cell_type": "markdown",
   "metadata": {},
   "source": [
    "### Create mercury dataframe"
   ]
  },
  {
   "cell_type": "code",
   "execution_count": null,
   "metadata": {
    "collapsed": true
   },
   "outputs": [],
   "source": []
  },
  {
   "cell_type": "code",
   "execution_count": null,
   "metadata": {
    "collapsed": true
   },
   "outputs": [],
   "source": []
  },
  {
   "cell_type": "code",
   "execution_count": null,
   "metadata": {
    "collapsed": true
   },
   "outputs": [],
   "source": []
  },
  {
   "cell_type": "code",
   "execution_count": 10,
   "metadata": {
    "collapsed": false
   },
   "outputs": [],
   "source": [
    "os.chdir(absolute_path)\n",
    "os.chdir(\"output/\" + simulation_name)\n",
    "\n",
    "simulations = glob(\"*\")\n",
    "for simulation in simulations:\n",
    "    os.chdir(simulation)\n",
    "    with open(\"pl.in\", \"w\") as f:\n",
    "        f.write(\"123\\n456\\n789\")\n",
    "    os.chdir(\"../\")\n",
    "\n",
    "os.chdir(absolute_path)"
   ]
  },
  {
   "cell_type": "code",
   "execution_count": null,
   "metadata": {
    "collapsed": true
   },
   "outputs": [],
   "source": []
  },
  {
   "cell_type": "code",
   "execution_count": null,
   "metadata": {
    "collapsed": true
   },
   "outputs": [],
   "source": []
  },
  {
   "cell_type": "markdown",
   "metadata": {},
   "source": [
    "## Run the simulation"
   ]
  },
  {
   "cell_type": "markdown",
   "metadata": {},
   "source": [
    "## Extract figures"
   ]
  },
  {
   "cell_type": "code",
   "execution_count": null,
   "metadata": {
    "collapsed": true
   },
   "outputs": [],
   "source": []
  }
 ],
 "metadata": {
  "kernelspec": {
   "display_name": "Python 3",
   "language": "python",
   "name": "python3"
  },
  "language_info": {
   "codemirror_mode": {
    "name": "ipython",
    "version": 3
   },
   "file_extension": ".py",
   "mimetype": "text/x-python",
   "name": "python",
   "nbconvert_exporter": "python",
   "pygments_lexer": "ipython3",
   "version": "3.6.0"
  }
 },
 "nbformat": 4,
 "nbformat_minor": 2
}
