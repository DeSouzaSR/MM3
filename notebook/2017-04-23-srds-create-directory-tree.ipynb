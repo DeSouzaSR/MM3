{
 "cells": [
  {
   "cell_type": "markdown",
   "metadata": {},
   "source": [
    "# Create directory tree"
   ]
  },
  {
   "cell_type": "code",
   "execution_count": 7,
   "metadata": {
    "collapsed": false
   },
   "outputs": [],
   "source": [
    "import os\n",
    "import shutil"
   ]
  },
  {
   "cell_type": "code",
   "execution_count": 12,
   "metadata": {
    "collapsed": true
   },
   "outputs": [],
   "source": [
    "simulation_name = \"Mercury\"\n",
    "suffix_simu = [\"A\", \"B\", \"C\", \"D\", \"E\", \"F\", \"G\", \"H\", \"I\", \"J\"]\n",
    "number_clones = 100\n",
    "simulation_path = \"../data/\"\n",
    "absolute_path = os.path.dirname(os.path.realpath(\".\")) + \"/notebook/\""
   ]
  },
  {
   "cell_type": "code",
   "execution_count": 13,
   "metadata": {
    "collapsed": false
   },
   "outputs": [],
   "source": [
    "os.chdir(absolute_path)\n",
    "os.chdir(\"../data/\")\n",
    "\n",
    "if os.path.isdir(simulation_name):\n",
    "    shutil.rmtree(simulation_name)\n",
    "    os.mkdir(simulation_name)\n",
    "else:\n",
    "    os.mkdir(simulation_name)\n",
    "\n",
    "for i in suffix_simu:\n",
    "    os.makedirs(simulation_name + \"/\" + simulation_name + i)\n",
    "    for j in range(1, number_clones + 1):\n",
    "        os.makedirs(simulation_name + \"/\" + simulation_name + i + \"/\" + \\\n",
    "                    simulation_name + i + \"{:03d}\".format(j))\n",
    "        \n",
    "os.chdir(absolute_path)"
   ]
  },
  {
   "cell_type": "code",
   "execution_count": null,
   "metadata": {
    "collapsed": true
   },
   "outputs": [],
   "source": []
  }
 ],
 "metadata": {
  "kernelspec": {
   "display_name": "Python 3",
   "language": "python",
   "name": "python3"
  },
  "language_info": {
   "codemirror_mode": {
    "name": "ipython",
    "version": 3
   },
   "file_extension": ".py",
   "mimetype": "text/x-python",
   "name": "python",
   "nbconvert_exporter": "python",
   "pygments_lexer": "ipython3",
   "version": "3.6.0"
  }
 },
 "nbformat": 4,
 "nbformat_minor": 2
}
