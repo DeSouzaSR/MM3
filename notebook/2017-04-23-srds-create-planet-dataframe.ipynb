{
 "cells": [
  {
   "cell_type": "markdown",
   "metadata": {},
   "source": [
    "# Create planets Dataframes"
   ]
  },
  {
   "cell_type": "code",
   "execution_count": 11,
   "metadata": {
    "collapsed": true
   },
   "outputs": [],
   "source": [
    "import pandas as pd\n",
    "import numpy as np"
   ]
  },
  {
   "cell_type": "code",
   "execution_count": 14,
   "metadata": {
    "collapsed": false
   },
   "outputs": [],
   "source": [
    "# Create planets data (J2000)\n",
    "# \n",
    "# Data from https://nssdc.gsfc.nasa.gov/planetary/\n",
    "# Data sequence: 'Venus', 'Earth', 'Mars', 'Jupiter', 'Saturn', 'Uranus',\n",
    "#  'Neptune'.\n",
    "\n",
    "# Planet's names\n",
    "planets_name = pd.Series(['venus', 'earth', 'mars', 'jupiter', 'saturn', 'uranus', 'neptune'])\n",
    "\n",
    "# Semi-axis [au]\n",
    "a = pd.Series([0.72333199, 1.00000011, 1.52366231, 5.20336301, 9.53707032, 19.19126393, 30.06896348])\n",
    "\n",
    "# Mass [kg]\n",
    "mass = pd.Series([4.8675, 5.9723, 0.64171, 1898.19, 568.34, 86.813, 102.413]) * 1e24\n",
    "\n",
    "# Equatorial radius [km]\n",
    "radio = pd.Series([6051.8, 6378.137, 3396.2, 71492, 60268, 25559, 24764])\n",
    "\n",
    "# Period [days]\n",
    "period = pd.Series([224.701, 365.256, 686.980, 4332.589, 10759.22, 30685.4, 60189])\n",
    "\n",
    "\n",
    "# Create a data frame from data series\n",
    "planets = pd.DataFrame({'planets_name': planets_name, 'a': a, 'mass': mass, \\\n",
    "                        'radio': radio, 'period': period})\n",
    "\n",
    "# Make planets_name index\n",
    "#planets = planets.set_index('planets_name')"
   ]
  },
  {
   "cell_type": "code",
   "execution_count": 15,
   "metadata": {
    "collapsed": false
   },
   "outputs": [],
   "source": [
    "#Create new column, considering G = 1\n",
    "# Mass of the Sum, in kg\n",
    "mass_sun_kg = 1988500e24\n",
    "\n",
    "# Mass of the Sun, with G = 1\n",
    "mass_sun_grav = 2.959139768995959e-04\n",
    "\n",
    "# Conic section is ellipse\n",
    "ialpha = -1\n",
    "\n",
    "# Gravitational factor of the Sun\n",
    "gm =  2.959139768995959e-04\n",
    "\n",
    "# Create mass_grav column\n",
    "planets['mass_grav'] = planets.mass * mass_sun_grav / mass_sun_kg\n",
    "\n",
    "# Create gmpl\n",
    "planets['gmpl'] = gm + planets.mass_grav"
   ]
  },
  {
   "cell_type": "code",
   "execution_count": 16,
   "metadata": {
    "collapsed": false
   },
   "outputs": [],
   "source": [
    "# Que coisa linda!!!\n",
    "for i in planets_name:\n",
    "    exec(i + ' = planets.loc[planets.planets_name == i].drop(\"planets_name\", 1)')"
   ]
  }
 ],
 "metadata": {
  "kernelspec": {
   "display_name": "Python 3",
   "language": "python",
   "name": "python3"
  },
  "language_info": {
   "codemirror_mode": {
    "name": "ipython",
    "version": 3
   },
   "file_extension": ".py",
   "mimetype": "text/x-python",
   "name": "python",
   "nbconvert_exporter": "python",
   "pygments_lexer": "ipython3",
   "version": "3.6.0"
  }
 },
 "nbformat": 4,
 "nbformat_minor": 2
}
