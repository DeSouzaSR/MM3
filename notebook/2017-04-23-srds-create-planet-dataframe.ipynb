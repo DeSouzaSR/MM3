{
 "cells": [
  {
   "cell_type": "markdown",
   "metadata": {},
   "source": [
    "# Create planets Dataframe"
   ]
  },
  {
   "cell_type": "code",
   "execution_count": 30,
   "metadata": {
    "collapsed": true
   },
   "outputs": [],
   "source": [
    "import pandas as pd\n",
    "import os"
   ]
  },
  {
   "cell_type": "code",
   "execution_count": 31,
   "metadata": {
    "collapsed": true
   },
   "outputs": [],
   "source": [
    "planets = pd.read_csv(\"../data/raw_data/planets_ini.csv\", index_col=\"planets_name\")"
   ]
  },
  {
   "cell_type": "code",
   "execution_count": 32,
   "metadata": {
    "collapsed": false
   },
   "outputs": [
    {
     "data": {
      "text/html": [
       "<div>\n",
       "<table border=\"1\" class=\"dataframe\">\n",
       "  <thead>\n",
       "    <tr style=\"text-align: right;\">\n",
       "      <th></th>\n",
       "      <th>a</th>\n",
       "      <th>e</th>\n",
       "      <th>i</th>\n",
       "      <th>capom</th>\n",
       "      <th>omega</th>\n",
       "      <th>M</th>\n",
       "      <th>mass</th>\n",
       "      <th>radio</th>\n",
       "      <th>period</th>\n",
       "    </tr>\n",
       "    <tr>\n",
       "      <th>planets_name</th>\n",
       "      <th></th>\n",
       "      <th></th>\n",
       "      <th></th>\n",
       "      <th></th>\n",
       "      <th></th>\n",
       "      <th></th>\n",
       "      <th></th>\n",
       "      <th></th>\n",
       "      <th></th>\n",
       "    </tr>\n",
       "  </thead>\n",
       "  <tbody>\n",
       "    <tr>\n",
       "      <th>Venus</th>\n",
       "      <td>0.723332</td>\n",
       "      <td>0.006773</td>\n",
       "      <td>3.39471</td>\n",
       "      <td>76.68069</td>\n",
       "      <td>131.53298</td>\n",
       "      <td>181.97973</td>\n",
       "      <td>4.867500e+24</td>\n",
       "      <td>6051.8</td>\n",
       "      <td>224701.00</td>\n",
       "    </tr>\n",
       "    <tr>\n",
       "      <th>Earth</th>\n",
       "      <td>1.000000</td>\n",
       "      <td>0.016710</td>\n",
       "      <td>0.00005</td>\n",
       "      <td>-11.26064</td>\n",
       "      <td>102.94719</td>\n",
       "      <td>100.46435</td>\n",
       "      <td>5.972300e+24</td>\n",
       "      <td>6378137.0</td>\n",
       "      <td>365256.00</td>\n",
       "    </tr>\n",
       "    <tr>\n",
       "      <th>Mars</th>\n",
       "      <td>1.523662</td>\n",
       "      <td>0.093412</td>\n",
       "      <td>1.85061</td>\n",
       "      <td>49.57854</td>\n",
       "      <td>336.04084</td>\n",
       "      <td>355.45332</td>\n",
       "      <td>6.417100e+23</td>\n",
       "      <td>3396.2</td>\n",
       "      <td>686.98</td>\n",
       "    </tr>\n",
       "    <tr>\n",
       "      <th>Jupiter</th>\n",
       "      <td>5.203363</td>\n",
       "      <td>0.048393</td>\n",
       "      <td>1.30530</td>\n",
       "      <td>100.55615</td>\n",
       "      <td>14.75385</td>\n",
       "      <td>34.40438</td>\n",
       "      <td>1.898190e+27</td>\n",
       "      <td>71492.0</td>\n",
       "      <td>4332589.00</td>\n",
       "    </tr>\n",
       "    <tr>\n",
       "      <th>Saturn</th>\n",
       "      <td>9.537070</td>\n",
       "      <td>0.054151</td>\n",
       "      <td>2.48446</td>\n",
       "      <td>113.71504</td>\n",
       "      <td>92.43194</td>\n",
       "      <td>49.94432</td>\n",
       "      <td>5.683400e+26</td>\n",
       "      <td>60268.0</td>\n",
       "      <td>10759.22</td>\n",
       "    </tr>\n",
       "    <tr>\n",
       "      <th>Uranus</th>\n",
       "      <td>19.191264</td>\n",
       "      <td>0.047168</td>\n",
       "      <td>0.76986</td>\n",
       "      <td>74.22988</td>\n",
       "      <td>170.96424</td>\n",
       "      <td>313.23218</td>\n",
       "      <td>8.681300e+25</td>\n",
       "      <td>25559.0</td>\n",
       "      <td>30685.40</td>\n",
       "    </tr>\n",
       "    <tr>\n",
       "      <th>Neptune</th>\n",
       "      <td>30.068963</td>\n",
       "      <td>0.008586</td>\n",
       "      <td>1.76917</td>\n",
       "      <td>131.72169</td>\n",
       "      <td>44.97135</td>\n",
       "      <td>304.88003</td>\n",
       "      <td>1.024130e+26</td>\n",
       "      <td>24764.0</td>\n",
       "      <td>60189.00</td>\n",
       "    </tr>\n",
       "  </tbody>\n",
       "</table>\n",
       "</div>"
      ],
      "text/plain": [
       "                      a         e        i      capom      omega          M  \\\n",
       "planets_name                                                                  \n",
       "Venus          0.723332  0.006773  3.39471   76.68069  131.53298  181.97973   \n",
       "Earth          1.000000  0.016710  0.00005  -11.26064  102.94719  100.46435   \n",
       "Mars           1.523662  0.093412  1.85061   49.57854  336.04084  355.45332   \n",
       "Jupiter        5.203363  0.048393  1.30530  100.55615   14.75385   34.40438   \n",
       "Saturn         9.537070  0.054151  2.48446  113.71504   92.43194   49.94432   \n",
       "Uranus        19.191264  0.047168  0.76986   74.22988  170.96424  313.23218   \n",
       "Neptune       30.068963  0.008586  1.76917  131.72169   44.97135  304.88003   \n",
       "\n",
       "                      mass      radio      period  \n",
       "planets_name                                       \n",
       "Venus         4.867500e+24     6051.8   224701.00  \n",
       "Earth         5.972300e+24  6378137.0   365256.00  \n",
       "Mars          6.417100e+23     3396.2      686.98  \n",
       "Jupiter       1.898190e+27    71492.0  4332589.00  \n",
       "Saturn        5.683400e+26    60268.0    10759.22  \n",
       "Uranus        8.681300e+25    25559.0    30685.40  \n",
       "Neptune       1.024130e+26    24764.0    60189.00  "
      ]
     },
     "execution_count": 32,
     "metadata": {},
     "output_type": "execute_result"
    }
   ],
   "source": [
    "planets"
   ]
  },
  {
   "cell_type": "code",
   "execution_count": 51,
   "metadata": {
    "collapsed": false
   },
   "outputs": [],
   "source": [
    "venus = planets.loc[\"Venus\"]"
   ]
  },
  {
   "cell_type": "code",
   "execution_count": 65,
   "metadata": {
    "collapsed": false
   },
   "outputs": [
    {
     "ename": "NameError",
     "evalue": "name 'default' is not defined",
     "output_type": "error",
     "traceback": [
      "\u001b[0;31m---------------------------------------------------------------------------\u001b[0m",
      "\u001b[0;31mNameError\u001b[0m                                 Traceback (most recent call last)",
      "\u001b[0;32m<ipython-input-65-dc2b5b117af4>\u001b[0m in \u001b[0;36m<module>\u001b[0;34m()\u001b[0m\n\u001b[0;32m----> 1\u001b[0;31m \u001b[0mnovo_venus\u001b[0m \u001b[0;34m=\u001b[0m \u001b[0mpd\u001b[0m\u001b[0;34m.\u001b[0m\u001b[0mDataFrame\u001b[0m\u001b[0;34m(\u001b[0m\u001b[0mvenus\u001b[0m\u001b[0;34m,\u001b[0m \u001b[0mcolumns\u001b[0m\u001b[0;34m=\u001b[0m\u001b[0mvenus\u001b[0m\u001b[0;34m.\u001b[0m\u001b[0mindex\u001b[0m\u001b[0;34m,\u001b[0m \u001b[0mindex\u001b[0m\u001b[0;34m=\u001b[0m\u001b[0mdefault\u001b[0m\u001b[0;34m)\u001b[0m\u001b[0;34m\u001b[0m\u001b[0m\n\u001b[0m",
      "\u001b[0;31mNameError\u001b[0m: name 'default' is not defined"
     ]
    }
   ],
   "source": [
    "novo_venus = pd.DataFrame(venus, columns=venus.index, index=)"
   ]
  },
  {
   "cell_type": "code",
   "execution_count": 64,
   "metadata": {
    "collapsed": false
   },
   "outputs": [
    {
     "data": {
      "text/html": [
       "<div>\n",
       "<table border=\"1\" class=\"dataframe\">\n",
       "  <thead>\n",
       "    <tr style=\"text-align: right;\">\n",
       "      <th></th>\n",
       "      <th>a</th>\n",
       "      <th>e</th>\n",
       "      <th>i</th>\n",
       "      <th>capom</th>\n",
       "      <th>omega</th>\n",
       "      <th>M</th>\n",
       "      <th>mass</th>\n",
       "      <th>radio</th>\n",
       "      <th>period</th>\n",
       "    </tr>\n",
       "  </thead>\n",
       "  <tbody>\n",
       "  </tbody>\n",
       "</table>\n",
       "</div>"
      ],
      "text/plain": [
       "Empty DataFrame\n",
       "Columns: [a, e, i, capom, omega, M, mass, radio, period]\n",
       "Index: []"
      ]
     },
     "execution_count": 64,
     "metadata": {},
     "output_type": "execute_result"
    }
   ],
   "source": [
    "novo_venus"
   ]
  },
  {
   "cell_type": "code",
   "execution_count": 68,
   "metadata": {
    "collapsed": false
   },
   "outputs": [],
   "source": [
    "novo_venus = venus.to_frame"
   ]
  },
  {
   "cell_type": "code",
   "execution_count": 70,
   "metadata": {
    "collapsed": false
   },
   "outputs": [
    {
     "data": {
      "text/html": [
       "<div>\n",
       "<table border=\"1\" class=\"dataframe\">\n",
       "  <thead>\n",
       "    <tr style=\"text-align: right;\">\n",
       "      <th></th>\n",
       "      <th>Venus</th>\n",
       "    </tr>\n",
       "  </thead>\n",
       "  <tbody>\n",
       "    <tr>\n",
       "      <th>a</th>\n",
       "      <td>7.233320e-01</td>\n",
       "    </tr>\n",
       "    <tr>\n",
       "      <th>e</th>\n",
       "      <td>6.773230e-03</td>\n",
       "    </tr>\n",
       "    <tr>\n",
       "      <th>i</th>\n",
       "      <td>3.394710e+00</td>\n",
       "    </tr>\n",
       "    <tr>\n",
       "      <th>capom</th>\n",
       "      <td>7.668069e+01</td>\n",
       "    </tr>\n",
       "    <tr>\n",
       "      <th>omega</th>\n",
       "      <td>1.315330e+02</td>\n",
       "    </tr>\n",
       "    <tr>\n",
       "      <th>M</th>\n",
       "      <td>1.819797e+02</td>\n",
       "    </tr>\n",
       "    <tr>\n",
       "      <th>mass</th>\n",
       "      <td>4.867500e+24</td>\n",
       "    </tr>\n",
       "    <tr>\n",
       "      <th>radio</th>\n",
       "      <td>6.051800e+03</td>\n",
       "    </tr>\n",
       "    <tr>\n",
       "      <th>period</th>\n",
       "      <td>2.247010e+05</td>\n",
       "    </tr>\n",
       "  </tbody>\n",
       "</table>\n",
       "</div>"
      ],
      "text/plain": [
       "               Venus\n",
       "a       7.233320e-01\n",
       "e       6.773230e-03\n",
       "i       3.394710e+00\n",
       "capom   7.668069e+01\n",
       "omega   1.315330e+02\n",
       "M       1.819797e+02\n",
       "mass    4.867500e+24\n",
       "radio   6.051800e+03\n",
       "period  2.247010e+05"
      ]
     },
     "execution_count": 70,
     "metadata": {},
     "output_type": "execute_result"
    }
   ],
   "source": [
    "novo_venus()"
   ]
  },
  {
   "cell_type": "code",
   "execution_count": null,
   "metadata": {
    "collapsed": true
   },
   "outputs": [],
   "source": []
  }
 ],
 "metadata": {
  "kernelspec": {
   "display_name": "Python 3",
   "language": "python",
   "name": "python3"
  },
  "language_info": {
   "codemirror_mode": {
    "name": "ipython",
    "version": 3
   },
   "file_extension": ".py",
   "mimetype": "text/x-python",
   "name": "python",
   "nbconvert_exporter": "python",
   "pygments_lexer": "ipython3",
   "version": "3.6.0"
  }
 },
 "nbformat": 4,
 "nbformat_minor": 2
}
