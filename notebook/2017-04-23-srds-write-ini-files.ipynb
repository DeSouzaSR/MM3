{
 "cells": [
  {
   "cell_type": "markdown",
   "metadata": {},
   "source": [
    " # Write input files on directories tree\n",
    "   \n",
    "   Write input files, (e.g. pl.in, param.in), on directories tree"
   ]
  },
  {
   "cell_type": "code",
   "execution_count": 10,
   "metadata": {
    "collapsed": true
   },
   "outputs": [],
   "source": [
    "from glob import glob\n",
    "import os"
   ]
  },
  {
   "cell_type": "code",
   "execution_count": 11,
   "metadata": {
    "collapsed": false
   },
   "outputs": [],
   "source": [
    "absolute_path = os.path.dirname(os.path.realpath(\".\")) + \"/notebook/\""
   ]
  },
  {
   "cell_type": "code",
   "execution_count": 12,
   "metadata": {
    "collapsed": false
   },
   "outputs": [],
   "source": [
    "simulation_name = \"Mercury\"\n",
    "os.chdir(absolute_path)\n",
    "os.chdir(\"../data/\" + simulation_name)\n",
    "\n",
    "dir_level1 = glob(\"*\")\n",
    "\n",
    "for i in dir_level1:\n",
    "    os.chdir(i)\n",
    "    dir_level2 = glob(\"*\")\n",
    "    for j in dir_level2:\n",
    "        os.chdir(j)\n",
    "        with open(\"pl.in\", \"w\") as f:\n",
    "            f.write(\"123\\n456\\n789\")\n",
    "        os.chdir(\"..\")\n",
    "    os.chdir(\"..\")\n",
    "\n",
    "os.chdir(absolute_path)"
   ]
  },
  {
   "cell_type": "code",
   "execution_count": null,
   "metadata": {
    "collapsed": true
   },
   "outputs": [],
   "source": []
  }
 ],
 "metadata": {
  "kernelspec": {
   "display_name": "Python 3",
   "language": "python",
   "name": "python3"
  },
  "language_info": {
   "codemirror_mode": {
    "name": "ipython",
    "version": 3
   },
   "file_extension": ".py",
   "mimetype": "text/x-python",
   "name": "python",
   "nbconvert_exporter": "python",
   "pygments_lexer": "ipython3",
   "version": "3.6.0"
  }
 },
 "nbformat": 4,
 "nbformat_minor": 2
}
